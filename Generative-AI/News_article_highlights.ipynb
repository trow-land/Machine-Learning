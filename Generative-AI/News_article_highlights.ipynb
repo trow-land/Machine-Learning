{
 "cells": [
  {
   "cell_type": "markdown",
   "id": "f9443442-ff09-425d-8f2b-aface3464d4c",
   "metadata": {},
   "source": [
    "# BART News article highlights\n",
    "\n",
    "The aim of this project is to refresh NLP methods and to explore ways of improving a pre-trained BART LLM to give shorter hightlights of news articles.\n",
    "\n",
    "The dataset used for this project is from the Hugging Face Datasets [CNN_DailyMail](https://huggingface.co/datasets/abisee/cnn_dailymail)."
   ]
  },
  {
   "cell_type": "code",
   "execution_count": 1,
   "id": "e61c7bba-7135-4cca-ae70-012e7a866a41",
   "metadata": {},
   "outputs": [
    {
     "name": "stderr",
     "output_type": "stream",
     "text": [
      "C:\\Users\\tom_r\\anaconda3\\envs\\Generative_AI\\Lib\\site-packages\\tqdm\\auto.py:21: TqdmWarning: IProgress not found. Please update jupyter and ipywidgets. See https://ipywidgets.readthedocs.io/en/stable/user_install.html\n",
      "  from .autonotebook import tqdm as notebook_tqdm\n"
     ]
    }
   ],
   "source": [
    "# load imports\n",
    "\n",
    "import huggingface\n",
    "import torch\n",
    "from transformers import AutoTokenizer, BartForConditionalGeneration\n",
    "from transformers import AutoModelForSeq2SeqLM, AutoTokenizer, TrainingArguments, Trainer, DataCollatorForSeq2Seq\n",
    "import time\n",
    "import datasets\n",
    "from datasets import load_dataset\n",
    "from sklearn.model_selection import train_test_split\n",
    "import evaluate\n",
    "\n",
    "from tqdm import tqdm\n",
    "\n",
    "import random\n",
    "import pandas as pd\n",
    "from IPython.display import display, HTML\n"
   ]
  },
  {
   "cell_type": "markdown",
   "id": "9c289a06-9d70-4e47-9e85-2f07fd9dc731",
   "metadata": {},
   "source": [
    "#### Load Dataset"
   ]
  },
  {
   "cell_type": "code",
   "execution_count": 2,
   "id": "226e1a69-4cd0-49be-97c6-fc6c69d297f1",
   "metadata": {},
   "outputs": [
    {
     "data": {
      "text/plain": [
       "DatasetDict({\n",
       "    train: Dataset({\n",
       "        features: ['article', 'highlights', 'id'],\n",
       "        num_rows: 287113\n",
       "    })\n",
       "    validation: Dataset({\n",
       "        features: ['article', 'highlights', 'id'],\n",
       "        num_rows: 13368\n",
       "    })\n",
       "    test: Dataset({\n",
       "        features: ['article', 'highlights', 'id'],\n",
       "        num_rows: 11490\n",
       "    })\n",
       "})"
      ]
     },
     "execution_count": 2,
     "metadata": {},
     "output_type": "execute_result"
    }
   ],
   "source": [
    "dataset = load_dataset(\"abisee/cnn_dailymail\", \"1.0.0\")\n",
    "dataset"
   ]
  },
  {
   "cell_type": "markdown",
   "id": "697d0484-d0e1-4630-8836-519844972146",
   "metadata": {},
   "source": [
    "#### Check Dataset"
   ]
  },
  {
   "cell_type": "code",
   "execution_count": 3,
   "id": "3e2430be-7386-47df-99d2-a98fa73579d2",
   "metadata": {
    "scrolled": true
   },
   "outputs": [
    {
     "data": {
      "text/html": [
       "<table border=\"1\" class=\"dataframe\">\n",
       "  <thead>\n",
       "    <tr style=\"text-align: right;\">\n",
       "      <th></th>\n",
       "      <th>article</th>\n",
       "      <th>highlights</th>\n",
       "      <th>id</th>\n",
       "    </tr>\n",
       "  </thead>\n",
       "  <tbody>\n",
       "    <tr>\n",
       "      <th>0</th>\n",
       "      <td>In the Arizona desert the first of Qantas's aged fleet of Boeing 767s jets are landing ...for the last time. It's called the 'great aeroplane graveyard' and like thousands of decommissioned military and passenger craft before them, it's where Qantas's reliable but costly 767 'workhorses' will retire. In the dust of a former airforce base in Victorville, California. 'Picture hot winds and shifting desert sands, prairy dogs and rattlesnakes  - and all you can hear is the hum of thousands of rusting propellers turning in the wind,'  says 60 Minutes Presenter Charles Wooley, who recently took a ticket on an empty 767  to it's final resting place at the Southern California Logistics Airport.  'Let's just say I wouldn't recommend it as a tourist destination - it's a very eery place.' Scroll down for video . Aeroplane graveyard: Qantas's aged fleet of Boeing 767s retiring to a former airforce base in Victorville, California, USA. A birds eye view of the Victorville 'boneyard' for old planes in California, USA. Qantas announced plans for all nine of its remaining 767 fleet to be retired by the end of 2014, nine months earlier than originally planned. The jets have already outlived their predicted 2010 used-by date and are now too costly to keep in the air. In their place, Qantas have chosen the more fuel-efficient 787 Dreamliners. Television Presenter Charles Wooley enjoyed the cabin to himself on one of the last 787 flights, named 'Charlie 1' by the crew. 'It was a bit like the Twilight Zone, I was half-expecting to see a monkey appear on the wing,' he said. 'Actually it was an all-female crew, it was symbolic since the making of the Boeing 767 in the 1980s coincided with the time women really began flying passenger planes.' 'When we landed, I met all my old friends out there. I must have been on those jets more than a hundred times over the years with 60 minutes,' says Wooley. 'These were masterpieces of 20th century engineering.' What will happen to them now? Engineers will 'rip the guts out of some', others will be wrapped up to keep their engines intact. 'One guy out there says to me: \"Well Charlie, some might be picked up by a billionaire, but I'd say most will end up as beer cans,'\" says Wooley. Scroll down for video . The Flying Kangaroos in Arizona now look much like any other old jet, with the bounding marsupials on their tails painted out in red. Wooley says it was hard to film at the graveyard because 'Boeing shareholders don't like seeing all these mothballs sitting around.' 'Airlines, like TV companies these days, are never too far away from bankruptcy - but it's all about fuel, cheaper planes that are much more economical to continue to fly,' he says. And it's not all bad news for the airline industry. According to Wooley, Boeing are producing 42 new Dreamliner craft at their plant in Seattle every month. Presenter Charles Wooley and the crew . Between 1941 to 1992, the Southern California Logistics Airport at Victorville was used as a frontline United States Air Force base . Old commercial aircraft sit in the sand at the Southern California Logistics Airport in Victorville, California . Television Presenter Charles Wooley and 'Charlie One', the Qantas Boeing 737 he accompanied to the Arizona 'graveyard' In Australia, the final Qantas Boeing 767 flight will run from Melbourne to Sydney on December 27  -  but residents of other Australian cities still have one last chance to grab a ride on the big bird between November and December this year. Join Charles Wooley onboard when 'Plane Graveyard' airs on 60 Minutes this Sunday, 21 September on Channel Nine.</td>\n",
       "      <td>Qantas's nine reliable but costly 767 'workhorses' are being retired to the Arizona desert . The airline is replacing them with the more fuel efficient 787 Dreamliners . Once on the ground, engineers strip the planes for parts . The fleet will be decommissioned by the end of 2014 .</td>\n",
       "      <td>e6d26a100b784f725032e9a4247365016a909718</td>\n",
       "    </tr>\n",
       "    <tr>\n",
       "      <th>1</th>\n",
       "      <td>By . Larisa Brown . PUBLISHED: . 20:26 EST, 1 October 2013 . | . UPDATED: . 20:33 EST, 1 October 2013 . In days gone by, they were mainly the preserve of Del Boy-style wheeler-dealers. But now the middle-classes are snapping up fake designer handbags, watches and DVDs. More than half of all consumers have admitted buying counterfeit goods, according to a recent study. The research was conducted by consultants from PwC who wanted to explore public attitudes towards the growth in industry of counterfeiting. Buying fake goods used to be preserve of Del Boy-style wheeler-dealers but has now 'gone mainstream' according to a new survey on attitudes to the counterfeiting industry . They concluded fake goods ‘have gone mainstream’, leaving manufacturers of the genuine articles out of pocket. While 90 per cent of the public said they considered buying fake goods ‘morally wrong’, it did not stop them acquiring a knock-off watch or Gucci handbag. In total, 53 per cent of consumers admitted they had bought counterfeit goods – many blaming the fact they could not afford the real thing. Young people were the worst offenders, with almost two thirds buying fakes such as jewellery and designer clothes. Affluent professional and managerial classes were just as likely to buy fakes as unskilled workers and those on benefits. Londoners and people from Northern Ireland were found to be the worst offenders, with Scots the least likely to give in to temptation. More than half of all consumers have admitted buying counterfeit goods, such as DVDs (file picture) Fake designer watches and bags were also popular buys as people cannot afford the real thing (file picture) Mark James, head of anti-counterfeiting . at PwC, told The Times newspaper technological advances and more . fragmented supply chains were behind the fake goods flooding Britain. He said: ‘Just as it has never been easier to start your own business, it has also never been easier to start your own counterfeiting business. ‘Not surprisingly, the study found that most people go to the internet to buy fakes, where things are harder to track.’ One of the key drivers behind fake designer clothing and footwear was identified as the rise in the number of websites claiming to offer ‘discount’ or ‘cheap’ luxury goods. Shoppers are even advised of the best sellers of counterfeit goods on some of the sites. Mr James added that the British public seemed to be unaware that buying the occasional fake could do any harm. He said: ‘Consumers are just not thinking of it in those terms. Even when they are asked about deterrents, being caught and the morality of it come behind safety, the fear of losing bank details and the product not being delivered. ‘But there is a cost. Companies are having their reputations, their brands and their revenues stolen and that has a knock-on effect on jobs.’ The Government estimates that counterfeiting costs the economy £1.3 billion a year.</td>\n",
       "      <td>Survey by PwC found more than half of people say they bought fake goods . But 90 per cent said they considered buying fake goods ‘morally wrong' Londoners and people from Northern Ireland worst offenders .</td>\n",
       "      <td>94ce507b264bb3abf06354de4662abe24887cc79</td>\n",
       "    </tr>\n",
       "  </tbody>\n",
       "</table>"
      ],
      "text/plain": [
       "<IPython.core.display.HTML object>"
      ]
     },
     "metadata": {},
     "output_type": "display_data"
    }
   ],
   "source": [
    "def show_random_elements(dataset, num_examples=2):\n",
    "    picks = []\n",
    "    for _ in range(num_examples):\n",
    "        pick = random.randint(0, len(dataset)-1)\n",
    "        while pick in picks:\n",
    "            pick = random.randint(0, len(dataset)-1)\n",
    "        picks.append(pick)\n",
    "    \n",
    "    df = pd.DataFrame(dataset[picks])\n",
    "    for column, typ in dataset.features.items():\n",
    "        if isinstance(typ, datasets.ClassLabel):\n",
    "            df[column] = df[column].transform(lambda i: typ.names[i])\n",
    "    display(HTML(df.to_html()))\n",
    "\n",
    "\n",
    "show_random_elements(dataset[\"train\"])"
   ]
  },
  {
   "cell_type": "markdown",
   "id": "96d0c088-a8e0-4e7b-ba82-9c3e7676dfb3",
   "metadata": {},
   "source": [
    "These examples show that the news articles get summurised by in a fairly succinct fashion to give just the main highlights for each. "
   ]
  },
  {
   "cell_type": "markdown",
   "id": "5c80f39c-6c84-4052-929e-576a76d78f4f",
   "metadata": {},
   "source": [
    "#### Preprocess and Tokenize Dataset"
   ]
  },
  {
   "cell_type": "code",
   "execution_count": 4,
   "id": "f319a9b1-5e39-4f5e-a00d-bd56dcae9ffb",
   "metadata": {},
   "outputs": [
    {
     "name": "stderr",
     "output_type": "stream",
     "text": [
      "C:\\Users\\tom_r\\anaconda3\\envs\\Generative_AI\\Lib\\site-packages\\transformers\\tokenization_utils_base.py:1601: FutureWarning: `clean_up_tokenization_spaces` was not set. It will be set to `True` by default. This behavior will be depracted in transformers v4.45, and will be then set to `False` by default. For more details check this issue: https://github.com/huggingface/transformers/issues/31884\n",
      "  warnings.warn(\n"
     ]
    }
   ],
   "source": [
    "# Load model and tokenizer\n",
    "model = BartForConditionalGeneration.from_pretrained(\"facebook/bart-large-cnn\")\n",
    "tokenizer = AutoTokenizer.from_pretrained(\"facebook/bart-large-cnn\")"
   ]
  },
  {
   "cell_type": "code",
   "execution_count": 17,
   "id": "3fb671c0-b12e-478d-ae9c-0d06bd559f3f",
   "metadata": {},
   "outputs": [],
   "source": [
    "def preprocess_function(examples):\n",
    "    '''Function to tokenize all of the articles and labels in the dataset in advance'''\n",
    "    inputs = [doc for doc in examples[\"article\"]]\n",
    "    \n",
    "    model_inputs = tokenizer(inputs, max_length=1024, truncation=True)\n",
    "\n",
    "    # Setup the tokenizer for targets\n",
    "    labels = tokenizer(text_target=examples[\"highlights\"], max_length=128, truncation=True)\n",
    "\n",
    "    model_inputs[\"labels\"] = labels[\"input_ids\"]\n",
    "    return model_inputs\n",
    "\n",
    "    "
   ]
  },
  {
   "cell_type": "code",
   "execution_count": 18,
   "id": "84919d75-5a3c-43a4-bb9d-a9be0537fa30",
   "metadata": {},
   "outputs": [
    {
     "data": {
      "text/plain": [
       "DatasetDict({\n",
       "    train: Dataset({\n",
       "        features: ['article', 'highlights', 'id'],\n",
       "        num_rows: 287113\n",
       "    })\n",
       "    validation: Dataset({\n",
       "        features: ['article', 'highlights', 'id'],\n",
       "        num_rows: 13368\n",
       "    })\n",
       "    test: Dataset({\n",
       "        features: ['article', 'highlights', 'id'],\n",
       "        num_rows: 11490\n",
       "    })\n",
       "})"
      ]
     },
     "execution_count": 18,
     "metadata": {},
     "output_type": "execute_result"
    }
   ],
   "source": [
    "dataset"
   ]
  },
  {
   "cell_type": "code",
   "execution_count": 19,
   "id": "4d1c7990-6be7-4d40-b2a4-df0401e86619",
   "metadata": {
    "scrolled": true
   },
   "outputs": [
    {
     "name": "stdout",
     "output_type": "stream",
     "text": [
      "------------------------------------------------------------------------------------------------------------------------------------------------------ \n",
      " Original article:\n",
      "\n",
      "['LONDON, England (Reuters) -- Harry Potter star Daniel Radcliffe gains access to a reported £20 million ($41.1 million) fortune as he turns 18 on Monday, but he insists the money won\\'t cast a spell on him. Daniel Radcliffe as Harry Potter in \"Harry Potter and the Order of the Phoenix\" To the disappointment of gossip columnists around the world, the young actor says he has no plans to fritter his cash away on fast cars, drink and celebrity parties. \"I don\\'t plan to be one of those people who, as soon as they turn 18, suddenly buy themselves a massive sports car collection or something similar,\" he told an Australian interviewer earlier this month. \"I don\\'t think I\\'ll be particularly extravagant. \"The things I like buying are things that cost about 10 pounds -- books and CDs and DVDs.\" At 18, Radcliffe will be able to gamble in a casino, buy a drink in a pub or see the horror film \"Hostel: Part II,\" currently six places below his number one movie on the UK box office chart. Details of how he\\'ll mark his landmark birthday are under wraps. His agent and publicist had no comment on his plans. \"I\\'ll definitely have some sort of party,\" he said in an interview. \"Hopefully none of you will be reading about it.\" Radcliffe\\'s earnings from the first five Potter films have been held in a trust fund which he has not been able to touch. Despite his growing fame and riches, the actor says he is keeping his feet firmly on the ground. \"People are always looking to say \\'kid star goes off the rails,\\'\" he told reporters last month. \"But I try very hard not to go that way because it would be too easy for them.\" His latest outing as the boy wizard in \"Harry Potter and the Order of the Phoenix\" is breaking records on both sides of the Atlantic and he will reprise the role in the last two films.  Watch I-Reporter give her review of Potter\\'s latest » . There is life beyond Potter, however. The Londoner has filmed a TV movie called \"My Boy Jack,\" about author Rudyard Kipling and his son, due for release later this year. He will also appear in \"December Boys,\" an Australian film about four boys who escape an orphanage. Earlier this year, he made his stage debut playing a tortured teenager in Peter Shaffer\\'s \"Equus.\" Meanwhile, he is braced for even closer media scrutiny now that he\\'s legally an adult: \"I just think I\\'m going to be more sort of fair game,\" he told Reuters. E-mail to a friend . Copyright 2007 Reuters. All rights reserved.This material may not be published, broadcast, rewritten, or redistributed.', 'Editor\\'s note: In our Behind the Scenes series, CNN correspondents share their experiences in covering news and analyze the stories behind the events. Here, Soledad O\\'Brien takes users inside a jail where many of the inmates are mentally ill. An inmate housed on the \"forgotten floor,\" where many mentally ill inmates are housed in Miami before trial. MIAMI, Florida (CNN) -- The ninth floor of the Miami-Dade pretrial detention facility is dubbed the \"forgotten floor.\" Here, inmates with the most severe mental illnesses are incarcerated until they\\'re ready to appear in court. Most often, they face drug charges or charges of assaulting an officer --charges that Judge Steven Leifman says are usually \"avoidable felonies.\" He says the arrests often result from confrontations with police. Mentally ill people often won\\'t do what they\\'re told when police arrive on the scene -- confrontation seems to exacerbate their illness and they become more paranoid, delusional, and less likely to follow directions, according to Leifman. So, they end up on the ninth floor severely mentally disturbed, but not getting any real help because they\\'re in jail. We toured the jail with Leifman. He is well known in Miami as an advocate for justice and the mentally ill. Even though we were not exactly welcomed with open arms by the guards, we were given permission to shoot videotape and tour the floor.  Go inside the \\'forgotten floor\\' » . At first, it\\'s hard to determine where the people are. The prisoners are wearing sleeveless robes. Imagine cutting holes for arms and feet in a heavy wool sleeping bag -- that\\'s kind of what they look like. They\\'re designed to keep the mentally ill patients from injuring themselves. That\\'s also why they have no shoes, laces or mattresses. Leifman says about one-third of all people in Miami-Dade county jails are mentally ill. So, he says, the sheer volume is overwhelming the system, and the result is what we see on the ninth floor. Of course, it is a jail, so it\\'s not supposed to be warm and comforting, but the lights glare, the cells are tiny and it\\'s loud. We see two, sometimes three men -- sometimes in the robes, sometimes naked, lying or sitting in their cells. \"I am the son of the president. You need to get me out of here!\" one man shouts at me. He is absolutely serious, convinced that help is on the way -- if only he could reach the White House. Leifman tells me that these prisoner-patients will often circulate through the system, occasionally stabilizing in a mental hospital, only to return to jail to face their charges. It\\'s brutally unjust, in his mind, and he has become a strong advocate for changing things in Miami. Over a meal later, we talk about how things got this way for mental patients. Leifman says 200 years ago people were considered \"lunatics\" and they were locked up in jails even if they had no charges against them. They were just considered unfit to be in society. Over the years, he says, there was some public outcry, and the mentally ill were moved out of jails and into hospitals. But Leifman says many of these mental hospitals were so horrible they were shut down. Where did the patients go? Nowhere. The streets. They became, in many cases, the homeless, he says. They never got treatment. Leifman says in 1955 there were more than half a million people in state mental hospitals, and today that number has been reduced 90 percent, and 40,000 to 50,000 people are in mental hospitals. The judge says he\\'s working to change this. Starting in 2008, many inmates who would otherwise have been brought to the \"forgotten floor\"  will instead be sent to a new mental health facility -- the first step on a journey toward long-term treatment, not just punishment. Leifman says it\\'s not the complete answer, but it\\'s a start. Leifman says the best part is that it\\'s a win-win solution. The patients win, the families are relieved, and the state saves money by simply not cycling these prisoners through again and again. And, for Leifman, justice is served. E-mail to a friend .']\n",
      "\n",
      "\n",
      " ------------------------------------------------------------------------------------------------------------------------------------------------------ \n",
      " Detokenized article:\n",
      "\n",
      "LONDON, England (Reuters) -- Harry Potter star Daniel Radcliffe gains access to a reported £20 million ($41.1 million) fortune as he turns 18 on Monday, but he insists the money won't cast a spell on him. Daniel Radcliffe as Harry Potter in \"Harry Potter and the Order of the Phoenix\" To the disappointment of gossip columnists around the world, the young actor says he has no plans to fritter his cash away on fast cars, drink and celebrity parties. \"I don't plan to be one of those people who, as soon as they turn 18, suddenly buy themselves a massive sports car collection or something similar,\" he told an Australian interviewer earlier this month. \"I don't think I'll be particularly extravagant. \"The things I like buying are things that cost about 10 pounds -- books and CDs and DVDs.\" At 18, Radcliffe will be able to gamble in a casino, buy a drink in a pub or see the horror film \"Hostel: Part II,\" currently six places below his number one movie on the UK box office chart. Details of how he'll mark his landmark birthday are under wraps. His agent and publicist had no comment on his plans. \"I'll definitely have some sort of party,\" he said in an interview. \"Hopefully none of you will be reading about it.\" Radcliffe's earnings from the first five Potter films have been held in a trust fund which he has not been able to touch. Despite his growing fame and riches, the actor says he is keeping his feet firmly on the ground. \"People are always looking to say 'kid star goes off the rails,'\" he told reporters last month. \"But I try very hard not to go that way because it would be too easy for them.\" His latest outing as the boy wizard in \"Harry Potter and the Order of the Phoenix\" is breaking records on both sides of the Atlantic and he will reprise the role in the last two films.  Watch I-Reporter give her review of Potter's latest ». There is life beyond Potter, however. The Londoner has filmed a TV movie called \"My Boy Jack,\" about author Rudyard Kipling and his son, due for release later this year. He will also appear in \"December Boys,\" an Australian film about four boys who escape an orphanage. Earlier this year, he made his stage debut playing a tortured teenager in Peter Shaffer's \"Equus.\" Meanwhile, he is braced for even closer media scrutiny now that he's legally an adult: \"I just think I'm going to be more sort of fair game,\" he told Reuters. E-mail to a friend. Copyright 2007 Reuters. All rights reserved.This material may not be published, broadcast, rewritten, or redistributed.\n"
     ]
    }
   ],
   "source": [
    "# test preprocess function is tokenizing correctly\n",
    "original_article = dataset['train'][:2]['article']\n",
    "\n",
    "tokenized_example = preprocess_function(dataset['train'][:2])\n",
    "detokenized_example = tokenizer.decode(tokenized_example['input_ids'][0], skip_special_tokens=True)\n",
    "\n",
    "print(150 * \"-\", \"\\n Original article:\\n\")\n",
    "print(original_article)\n",
    "print(\"\\n\\n\", 150 * \"-\", \"\\n Detokenized article:\\n\")\n",
    "print(detokenized_example)"
   ]
  },
  {
   "cell_type": "markdown",
   "id": "8b53a735-055c-4b4c-8ff2-98636c472d60",
   "metadata": {},
   "source": [
    "#### Tokenize and preprocess the whole dataset"
   ]
  },
  {
   "cell_type": "code",
   "execution_count": 20,
   "id": "725c194a-226e-4e65-84a6-bd37a3533b30",
   "metadata": {},
   "outputs": [
    {
     "name": "stderr",
     "output_type": "stream",
     "text": [
      "Map: 100%|██████████| 287113/287113 [04:02<00:00, 1184.30 examples/s]\n",
      "Map: 100%|██████████| 13368/13368 [00:11<00:00, 1131.48 examples/s]\n",
      "Map: 100%|██████████| 11490/11490 [00:10<00:00, 1132.79 examples/s]\n"
     ]
    }
   ],
   "source": [
    "\n",
    "tokenized_datasets = dataset.map(preprocess_function, batched=True)\n"
   ]
  },
  {
   "cell_type": "markdown",
   "id": "93f06cf5-151c-44be-ae66-8374fa78ef92",
   "metadata": {},
   "source": [
    "#### Test out pre-trained BART"
   ]
  },
  {
   "cell_type": "code",
   "execution_count": 21,
   "id": "c842c8a3-3987-49a0-98b3-cd64b8a61f86",
   "metadata": {
    "scrolled": true
   },
   "outputs": [
    {
     "name": "stdout",
     "output_type": "stream",
     "text": [
      "----------------------------------------------------------------------------------------------------\n",
      "Example  1\n",
      "----------------------------------------------------------------------------------------------------\n",
      "INPUT PROMPT:\n",
      "Norfolk, Virginia (CNN)The second mate of the Houston Express probably couldn't believe what he was seeing. Hundreds of miles from land there was a small boat nearby. At first it looked abandoned. It was in bad shape, listing to one side. The crew of the 1,000-foot long container ship thought it was a yacht that had wrecked. Incredibly, as they got closer, they saw there was a man on it, signaling for help. \"He was moving, walking around, waving to us and in surprisingly good condition,\" Capt. Thomas Grenz told CNN by phone Friday. That man, Louis Jordan, 37, had an amazing story. He'd been drifting on the 35-foot Pearson sailboat for more than two months since leaving Conway, South Carolina, to fish in the ocean. Just a few days into his trip, a storm capsized his boat and broke his mast. One of his shoulders was broken, too, so he couldn't fix the boat right away. Eventually he was able to rig a makeshift mast and sail, but he could make little headway against the currents. \"It took so long,\" Jordan said.  \"It moved so slowly.\" The boat capsized two more times before he was rescued, according to Jordan. His father, Frank Jordan, told CNN's Jim Sciutto that he was expecting his son to look different. \"He looked good. Hadn't lost too much weight. He wasn't badly sunburned like I thought he probably would be,\" he said. Lost at sea for 66 days . After his food and water ran out, it became an issue of survival. Collecting fresh water was a nightmare for Jordan.  The weather wouldn't cooperate. Records show there were more than a dozen storms off the coast of the Carolinas during the time he was missing. The precipitation came at night during harsh conditions. \"I had tried to collect (rain)water ... but every time the waves would splash into the boat,\" Jordan said.  \"The waves would put saltwater into my freshwater and it tasted bad. \"Finally the conditions were right.  I filled up my water tank, which is 25 gallons.  I filled up a bucket.\" Then there was the issue of food. The fish weren't cooperating, but after a while Jordan learned they were attracted to his laundry, which he would put out to sea for a rinse. The fish would swim in and out of his clothes and he could easily scoop them up with a hand net, he said. Jordan came ashore Thursday evening. CNN affiliate WAVY in Norfolk, Virginia, reported that he was able to walk from the helicopter into Sentara Norfolk General Hospital about 7:30 p.m. Coast Guard officials have said they have found no reason to doubt Jordan's incredible story. They noted that his father contacted them January 29 to report his son and his boat missing. Frank Jordan addressed the skepticism about his son's appearance, saying the boat stayed afloat and upright most of the time. His son spent most of his days in the cabin, out of the sun. Frank Jordan said it was obvious when the Jordans met at the hospital Friday morning that his normally low-key and private son had been through an ordeal. \"I know he went through what he went through,\" Frank Jordan said. Jordan is an unemployed truck driver who lived on his boat at a marina in Conway. He had free rent and free food in the river, he said. But when it became difficult to catch dinner, he took off for the ocean in hopes he would land some bigger fish. Frank Jordan told CNN's Wolf Blitzer on Thursday that he had worried about his son, who is an inexperienced sailor, but he held hope because his son had a good boat. And he had the strength to make it. \"He's got a very strong constitution and (is strong) not only physically, but spiritually,\" Frank Jordan said. \"And he told me on the phone that he was praying the whole time, so I believe that sustained him a great deal.\" Rescue swimmer Kyle McCollum was the first to care for Jordan on the flight back to land. \"You would expect sunburns, severe sunburn, blisters maybe ... a bunch of medical issues that could possibly be wrong with him,\" he said. \"But for him to be in his current state was pretty amazing.\" Grenz was also surprised by Jordan's condition, physically and mentally. The rescued sailor knew almost exactly what day it was, remarkable for someone who had been on the water for more than 60 days. Jordan was dehydrated and said he was hungry. \"We took him to a rescue boat,\" the container ship captain said. \"He was given water and pea soup to gain some power again.\" Derriel Morris, a neighbor at the Bucksport Plantation Marina & RV Resort called Jordan a nice guy who loved his 47-year-old boat, named \"Angel.\" Morris said: \"It was immaculate, it was gorgeous, beautifully painted. I mean it looked like a brand new sailboat.\" Morris told CNN affiliate WPDE that one day in January he was going to the store and Jordan asked him to bring back some coffee creamer. But when he returned to the marina, Jordan had slipped away. \"There was no shore line, no hose; it was like he was never there,\" Morris told the station. After he disappeared others who also live there held a candlelight ceremony. The marina's manager, Jeff Weeks, told WPDE that Jordan is expected to be back at Buscksport next week. Tales of people who cheated death after days, weeks adrift .\n",
      "----------------------------------------------------------------------------------------------------\n",
      "Human labelled highlight:\n",
      "Father: \"I know he went through what he went through\" Louis Jordan was found on his sailboat, which was listing and in bad shape, rescuer says . He appears to be in good shape, physically and mentally .\n",
      "----------------------------------------------------------------------------------------------------\n",
      "Pre-Trained BART model generation - WITHOUT PROMPT ENGINEERING:\n",
      "Louis Jordan, 37, left Conway, South Carolina, to fish in the ocean. A storm capsized his boat and broke his mast, so he couldn't fix it right away. The boat capsized two more times before he was rescued, according to Jordan. The Coast Guard says they have found no reason to doubt Jordan's story.\n",
      "\n",
      "----------------------------------------------------------------------------------------------------\n",
      "Example  2\n",
      "----------------------------------------------------------------------------------------------------\n",
      "INPUT PROMPT:\n",
      "(CNN)According to an outside review by Columbia Journalism School professors, \"(a)n institutional failure at Rolling Stone resulted in a deeply flawed article about a purported gang rape at the University of Virginia.\" The Columbia team concluded that \"The failure encompassed reporting, editing, editorial supervision and fact-checking.\" Hardly a ringing endorsement of the editorial process at the publication. The magazine's managing editor, Will Dana, wrote, \"We would like to apologize to our readers and to all of those who were damaged by our story and the ensuing fallout, including members of the Phi Kappa Psi fraternity and UVA administrators and students.\" Brian Stelter: Fraternity to 'pursue all available legal action' The next question is: . Can UVA, Phi Kappa Psi or any of the other fraternities on campus sue for defamation? The Virginia Supreme Court said in Jordan v. Kollman that \"the elements of libel are (1) publication of (2) an actionable statement with (3) the requisite intent.\" \"Actionable\" means the statement must be both false and defamatory. Of course, the law of defamation must be balanced against the freedom of speech protected under not only the First Amendment to the United States Constitution, but also the Virginia Constitution. True statements cannot be defamatory. Neither can pure statements of opinion, because they theoretically cannot be either true or false. But the Rolling Stone article certainly purported to be fact, and it apparently is not exactly what the law considers \"true.\" The individual members of the fraternity will likely be considered private individuals, and not public figures; the latter have a harder time proving defamation. A private person suing for defamation must establish that the defendant has published a false factual statement that is about the person and that it also harms the person's reputation. The private plaintiff also must show that the defendant knew that the statement was false, or believed it was true but lacked a reasonable basis, or acted negligently in checking the facts. At first blush, that sounds like it fits perfectly, right? The Columbia report may go a long way toward establishing at least a modicum of the required intent. But that's only half the battle. There are strict rules about who can be a plaintiff in a defamation action like this. The identity of the aspiring plaintiff matters. First, let's eliminate UVA. The university is a public university, and therefore it is a governmental entity. The Supreme Court has been clear on the issue of libelous statements about the government: The government cannot sue for defamation. There is no such cause of action in American jurisprudence. Now the fraternities, starting with Phi Kappa Psi. A fraternity is not an individual, but a group. A plaintiff in a defamation case must show that the statements were \"of or concerning\" the plaintiff. It sounds obvious, but if you're going to say a statement hurt you, you have to prove the statement actually was about you to begin with. When the statements are about a group without naming an individual, it's hard to say the statement is \"concerning\" the individual -- and groups generally cannot sue.  For example, you can be sued if you call a specific lawyer a thief, but that same person cannot sue you if you simply call all lawyers thieves. Defamatory statements about a group are therefore not actionable by the group's individual members, for the most part. Like all rules, however, there are exceptions. If the defamatory language is about \"a comparatively small group of persons and the defamatory part is easily imputed against all members of the small group, an individual member may sue.\" If I said, \"The 1980 Philadelphia Phillies infielders were a bunch of criminals\" (they weren't),  the individual players could sue, because that mean statement is clearly about certain persons -- if I said that -- which I didn't. Phi Kappa Psi would likely argue that the \"small group\" exception fits it perfectly: Even if the individual members were not identified by name, the defamatory story has been imputed directly to individual members, who have suffered by their association with the group. On the other hand, Rolling Stone's lawyers would likely argue that the group is so large and fluid (after all, the membership changes somewhat every year), that even though the fraternity's reputation is tarnished, the members have suffered no individualized injury. As for the other fraternities on campus but not implicated in the story, that's likely a group that moves from the small category to large, and the members of Greek life generally will have a harder time bringing a lawsuit. Lawyers will tell you that a libel suit is one of those things that citizens often threaten each other with on Facebook, but that such cases are rarely actually filed. That's because a plaintiff usually has to show some kind of financial harm. So if your Aunt Edna calls you a loser on Twitter, you're going to have to spend money on an expert to explain to a jury how that actually damaged you financially. And since most of the people who waste time threatening each other with defamation suits  on Facebook live in their moms' basements and are \"between jobs,\" these are not the kind of people who have money or reputation to damage in the first place. The UVA situation is not your run-of-the-mill defamation case. The university won't be able to sue, but if the members of the fraternity can get past some of the preliminary hurdles of a defamation claim, and they can make a tangible case for damages, then this could be one of those rare successful defamation cases.\n",
      "----------------------------------------------------------------------------------------------------\n",
      "Human labelled highlight:\n",
      "An outside review found that a Rolling Stone article about campus rape was \"deeply flawed\" Danny Cevallos says that there are obstacles to a successful libel case, should one be filed .\n",
      "----------------------------------------------------------------------------------------------------\n",
      "Pre-Trained BART model generation - WITHOUT PROMPT ENGINEERING:\n",
      "Rolling Stone published an article about a purported gang rape at the University of Virginia. Dean Obeidallah: Can UVA, Phi Kappa Psi or any of the other fraternities on campus sue for defamation? He says there are strict rules about who can be a plaintiff in a defamation action. Obeido: A group that moves from large to small will have a harder time bringing a lawsuit.\n",
      "\n"
     ]
    }
   ],
   "source": [
    "# Testing out the pre-trained BART without any additional prompt information\n",
    "\n",
    "example_indices = [20, 50]\n",
    "dash_line = 100 * '-'\n",
    "\n",
    "\n",
    "for i, index in enumerate(example_indices):\n",
    "    article = dataset['test'][index]['article']\n",
    "    summary = dataset['test'][index]['highlights']\n",
    "\n",
    "    \n",
    "    inputs = tokenizer(article, max_length=1024, truncation=True, return_tensors='pt')\n",
    "    output = tokenizer.decode(\n",
    "        model.generate(\n",
    "            inputs[\"input_ids\"], \n",
    "            max_new_tokens=250,\n",
    "        )[0], \n",
    "        skip_special_tokens=True\n",
    "    )\n",
    "    \n",
    "    print(dash_line)\n",
    "    print('Example ', i + 1)\n",
    "    print(dash_line)\n",
    "    print(f'INPUT PROMPT:\\n{article}')\n",
    "    print(dash_line)\n",
    "    print(f'Human labelled highlight:\\n{summary}')\n",
    "    print(dash_line)\n",
    "    print(f'Pre-Trained BART model generation - WITHOUT PROMPT ENGINEERING:\\n{output}\\n')"
   ]
  },
  {
   "cell_type": "code",
   "execution_count": 22,
   "id": "ff907923-067d-45d2-a16a-aa6e4006e977",
   "metadata": {},
   "outputs": [],
   "source": [
    "# Set up evaluation metric \n",
    "import evaluate\n",
    "rouge = evaluate.load(\"rouge\")\n"
   ]
  },
  {
   "cell_type": "markdown",
   "id": "3cc55fb8-27fb-4ecc-a054-a98d2128d3f0",
   "metadata": {},
   "source": [
    "### First we should get some baseline metrics for the original model"
   ]
  },
  {
   "cell_type": "code",
   "execution_count": 23,
   "id": "19435e23-89df-454a-b273-7032ac660255",
   "metadata": {
    "scrolled": true
   },
   "outputs": [
    {
     "name": "stdout",
     "output_type": "stream",
     "text": [
      "----------------------------------------------------------------------------------------------------\n",
      "Example  1\n",
      "----------------------------------------------------------------------------------------------------\n",
      "INPUT PROMPT:\n",
      "Norfolk, Virginia (CNN)The second mate of the Houston Express probably couldn't believe what he was seeing. Hundreds of miles from land there was a small boat nearby. At first it looked abandoned. It was in bad shape, listing to one side. The crew of the 1,000-foot long container ship thought it was a yacht that had wrecked. Incredibly, as they got closer, they saw there was a man on it, signaling for help. \"He was moving, walking around, waving to us and in surprisingly good condition,\" Capt. Thomas Grenz told CNN by phone Friday. That man, Louis Jordan, 37, had an amazing story. He'd been drifting on the 35-foot Pearson sailboat for more than two months since leaving Conway, South Carolina, to fish in the ocean. Just a few days into his trip, a storm capsized his boat and broke his mast. One of his shoulders was broken, too, so he couldn't fix the boat right away. Eventually he was able to rig a makeshift mast and sail, but he could make little headway against the currents. \"It took so long,\" Jordan said.  \"It moved so slowly.\" The boat capsized two more times before he was rescued, according to Jordan. His father, Frank Jordan, told CNN's Jim Sciutto that he was expecting his son to look different. \"He looked good. Hadn't lost too much weight. He wasn't badly sunburned like I thought he probably would be,\" he said. Lost at sea for 66 days . After his food and water ran out, it became an issue of survival. Collecting fresh water was a nightmare for Jordan.  The weather wouldn't cooperate. Records show there were more than a dozen storms off the coast of the Carolinas during the time he was missing. The precipitation came at night during harsh conditions. \"I had tried to collect (rain)water ... but every time the waves would splash into the boat,\" Jordan said.  \"The waves would put saltwater into my freshwater and it tasted bad. \"Finally the conditions were right.  I filled up my water tank, which is 25 gallons.  I filled up a bucket.\" Then there was the issue of food. The fish weren't cooperating, but after a while Jordan learned they were attracted to his laundry, which he would put out to sea for a rinse. The fish would swim in and out of his clothes and he could easily scoop them up with a hand net, he said. Jordan came ashore Thursday evening. CNN affiliate WAVY in Norfolk, Virginia, reported that he was able to walk from the helicopter into Sentara Norfolk General Hospital about 7:30 p.m. Coast Guard officials have said they have found no reason to doubt Jordan's incredible story. They noted that his father contacted them January 29 to report his son and his boat missing. Frank Jordan addressed the skepticism about his son's appearance, saying the boat stayed afloat and upright most of the time. His son spent most of his days in the cabin, out of the sun. Frank Jordan said it was obvious when the Jordans met at the hospital Friday morning that his normally low-key and private son had been through an ordeal. \"I know he went through what he went through,\" Frank Jordan said. Jordan is an unemployed truck driver who lived on his boat at a marina in Conway. He had free rent and free food in the river, he said. But when it became difficult to catch dinner, he took off for the ocean in hopes he would land some bigger fish. Frank Jordan told CNN's Wolf Blitzer on Thursday that he had worried about his son, who is an inexperienced sailor, but he held hope because his son had a good boat. And he had the strength to make it. \"He's got a very strong constitution and (is strong) not only physically, but spiritually,\" Frank Jordan said. \"And he told me on the phone that he was praying the whole time, so I believe that sustained him a great deal.\" Rescue swimmer Kyle McCollum was the first to care for Jordan on the flight back to land. \"You would expect sunburns, severe sunburn, blisters maybe ... a bunch of medical issues that could possibly be wrong with him,\" he said. \"But for him to be in his current state was pretty amazing.\" Grenz was also surprised by Jordan's condition, physically and mentally. The rescued sailor knew almost exactly what day it was, remarkable for someone who had been on the water for more than 60 days. Jordan was dehydrated and said he was hungry. \"We took him to a rescue boat,\" the container ship captain said. \"He was given water and pea soup to gain some power again.\" Derriel Morris, a neighbor at the Bucksport Plantation Marina & RV Resort called Jordan a nice guy who loved his 47-year-old boat, named \"Angel.\" Morris said: \"It was immaculate, it was gorgeous, beautifully painted. I mean it looked like a brand new sailboat.\" Morris told CNN affiliate WPDE that one day in January he was going to the store and Jordan asked him to bring back some coffee creamer. But when he returned to the marina, Jordan had slipped away. \"There was no shore line, no hose; it was like he was never there,\" Morris told the station. After he disappeared others who also live there held a candlelight ceremony. The marina's manager, Jeff Weeks, told WPDE that Jordan is expected to be back at Buscksport next week. Tales of people who cheated death after days, weeks adrift .\n",
      "----------------------------------------------------------------------------------------------------\n",
      "Human generated highlight:\n",
      "Father: \"I know he went through what he went through\" Louis Jordan was found on his sailboat, which was listing and in bad shape, rescuer says . He appears to be in good shape, physically and mentally .\n",
      "----------------------------------------------------------------------------------------------------\n",
      "Pre-Trained BART GENERATION - WITH SIMPLE PROMPT ENGINEERING:\n",
      "Louis Jordan, 37, left Conway, South Carolina, to fish in the ocean. A storm capsized his boat and broke his mast. The boat capsized two more times before he was rescued. He was dehydrated and hungry and was given pea soup and pea juice.\n",
      "\n",
      "----------------------------------------------------------------------------------------------------\n",
      "Example  2\n",
      "----------------------------------------------------------------------------------------------------\n",
      "INPUT PROMPT:\n",
      "(CNN)According to an outside review by Columbia Journalism School professors, \"(a)n institutional failure at Rolling Stone resulted in a deeply flawed article about a purported gang rape at the University of Virginia.\" The Columbia team concluded that \"The failure encompassed reporting, editing, editorial supervision and fact-checking.\" Hardly a ringing endorsement of the editorial process at the publication. The magazine's managing editor, Will Dana, wrote, \"We would like to apologize to our readers and to all of those who were damaged by our story and the ensuing fallout, including members of the Phi Kappa Psi fraternity and UVA administrators and students.\" Brian Stelter: Fraternity to 'pursue all available legal action' The next question is: . Can UVA, Phi Kappa Psi or any of the other fraternities on campus sue for defamation? The Virginia Supreme Court said in Jordan v. Kollman that \"the elements of libel are (1) publication of (2) an actionable statement with (3) the requisite intent.\" \"Actionable\" means the statement must be both false and defamatory. Of course, the law of defamation must be balanced against the freedom of speech protected under not only the First Amendment to the United States Constitution, but also the Virginia Constitution. True statements cannot be defamatory. Neither can pure statements of opinion, because they theoretically cannot be either true or false. But the Rolling Stone article certainly purported to be fact, and it apparently is not exactly what the law considers \"true.\" The individual members of the fraternity will likely be considered private individuals, and not public figures; the latter have a harder time proving defamation. A private person suing for defamation must establish that the defendant has published a false factual statement that is about the person and that it also harms the person's reputation. The private plaintiff also must show that the defendant knew that the statement was false, or believed it was true but lacked a reasonable basis, or acted negligently in checking the facts. At first blush, that sounds like it fits perfectly, right? The Columbia report may go a long way toward establishing at least a modicum of the required intent. But that's only half the battle. There are strict rules about who can be a plaintiff in a defamation action like this. The identity of the aspiring plaintiff matters. First, let's eliminate UVA. The university is a public university, and therefore it is a governmental entity. The Supreme Court has been clear on the issue of libelous statements about the government: The government cannot sue for defamation. There is no such cause of action in American jurisprudence. Now the fraternities, starting with Phi Kappa Psi. A fraternity is not an individual, but a group. A plaintiff in a defamation case must show that the statements were \"of or concerning\" the plaintiff. It sounds obvious, but if you're going to say a statement hurt you, you have to prove the statement actually was about you to begin with. When the statements are about a group without naming an individual, it's hard to say the statement is \"concerning\" the individual -- and groups generally cannot sue.  For example, you can be sued if you call a specific lawyer a thief, but that same person cannot sue you if you simply call all lawyers thieves. Defamatory statements about a group are therefore not actionable by the group's individual members, for the most part. Like all rules, however, there are exceptions. If the defamatory language is about \"a comparatively small group of persons and the defamatory part is easily imputed against all members of the small group, an individual member may sue.\" If I said, \"The 1980 Philadelphia Phillies infielders were a bunch of criminals\" (they weren't),  the individual players could sue, because that mean statement is clearly about certain persons -- if I said that -- which I didn't. Phi Kappa Psi would likely argue that the \"small group\" exception fits it perfectly: Even if the individual members were not identified by name, the defamatory story has been imputed directly to individual members, who have suffered by their association with the group. On the other hand, Rolling Stone's lawyers would likely argue that the group is so large and fluid (after all, the membership changes somewhat every year), that even though the fraternity's reputation is tarnished, the members have suffered no individualized injury. As for the other fraternities on campus but not implicated in the story, that's likely a group that moves from the small category to large, and the members of Greek life generally will have a harder time bringing a lawsuit. Lawyers will tell you that a libel suit is one of those things that citizens often threaten each other with on Facebook, but that such cases are rarely actually filed. That's because a plaintiff usually has to show some kind of financial harm. So if your Aunt Edna calls you a loser on Twitter, you're going to have to spend money on an expert to explain to a jury how that actually damaged you financially. And since most of the people who waste time threatening each other with defamation suits  on Facebook live in their moms' basements and are \"between jobs,\" these are not the kind of people who have money or reputation to damage in the first place. The UVA situation is not your run-of-the-mill defamation case. The university won't be able to sue, but if the members of the fraternity can get past some of the preliminary hurdles of a defamation claim, and they can make a tangible case for damages, then this could be one of those rare successful defamation cases.\n",
      "----------------------------------------------------------------------------------------------------\n",
      "Human generated highlight:\n",
      "An outside review found that a Rolling Stone article about campus rape was \"deeply flawed\" Danny Cevallos says that there are obstacles to a successful libel case, should one be filed .\n",
      "----------------------------------------------------------------------------------------------------\n",
      "Pre-Trained BART GENERATION - WITH SIMPLE PROMPT ENGINEERING:\n",
      "David Frum: Can UVA, Phi Kappa Psi or any of the other fraternities on campus sue for defamation? He says the Virginia Supreme Court said in Jordan v. Kollman that \"the elements of libel are (1) publication of (2) an actionable statement with (3) the requisite intent\" Frum says individual members of the fraternity will likely be considered private individuals, and not public figures.\n",
      "\n"
     ]
    }
   ],
   "source": [
    "# simple prefix\n",
    "\n",
    "example_indices = [20, 50]\n",
    "\n",
    "for i, index in enumerate(example_indices):\n",
    "    article = dataset['test'][index]['article']\n",
    "    summary = dataset['test'][index]['highlights']\n",
    "\n",
    "    prefix = 'Summarize the article in one or two sentences? :  '\n",
    "    \n",
    "    inputs = tokenizer(prefix + article, max_length=1024, truncation=True, return_tensors='pt')\n",
    "    output = tokenizer.decode(\n",
    "        model.generate(\n",
    "            inputs[\"input_ids\"], \n",
    "            max_new_tokens=250,\n",
    "        )[0], \n",
    "        skip_special_tokens=True\n",
    "    )\n",
    "    \n",
    "    print(dash_line)\n",
    "    print('Example ', i + 1)\n",
    "    print(dash_line)\n",
    "    print(f'INPUT PROMPT:\\n{article}')\n",
    "    print(dash_line)\n",
    "    print(f'Human generated highlight:\\n{summary}')\n",
    "    print(dash_line)\n",
    "    print(f'Pre-Trained BART GENERATION - WITH SIMPLE PROMPT ENGINEERING:\\n{output}\\n')"
   ]
  },
  {
   "cell_type": "markdown",
   "id": "7254c566-38ea-455b-a9f3-2e50499a3a86",
   "metadata": {},
   "source": [
    "#### Define model evaluation function"
   ]
  },
  {
   "cell_type": "code",
   "execution_count": 24,
   "id": "1a0aa2d2-b15a-41c8-8209-e715ac8a6ff8",
   "metadata": {},
   "outputs": [],
   "source": [
    "def evaluate_model_performance(model, mode=\"instruction\", example_index = 125):\n",
    "\n",
    "    # Subset of dataset for evaluation\n",
    "    articles = dataset['test'][0:100]['article']\n",
    "    highlights = dataset['test'][0:100]['highlights']\n",
    "    \n",
    "    model_summaries = []\n",
    "    \n",
    "    for i, article in enumerate(tqdm(articles, desc=\"Evaluating\")):\n",
    "        \n",
    "        # Building the prompt based on the mode\n",
    "        if mode == \"zero shot\":\n",
    "            # just asking for a summary\n",
    "            prompt = f\"Summarize in one or two sentences the following article:\\n\\n{article}\\n\\nSummary:\"\n",
    "        \n",
    "        elif mode == 'one shot' and example_indices is not None:\n",
    "            # Provide one example and then ask for a summary\n",
    "            example_article = dataset['test'][example_index]['article']\n",
    "            example_highlight = dataset['test'][example_index]['highlights']\n",
    "\n",
    "            prompt = f\"\"\"\n",
    "Task: Summarise the following new article in one or two sentences\n",
    "Article:\n",
    "            \n",
    "{article}\n",
    "\"\"\"\n",
    "            # showing the model an example in the prompt (note: because inputs are so long this might not be as effective)    \n",
    "            prompt += 'Below are examples of article highlights'\n",
    "            \n",
    "            prompt += f\"\"\"\n",
    "Example Article:\n",
    "{example_article}\n",
    "            \n",
    "Example Summary:\n",
    "{example_highlight}\n",
    "\"\"\"        \n",
    "            \n",
    "        elif mode == \"instruction\":\n",
    "            # using a task specific instruction\n",
    "            prompt = f\"\"\"\n",
    "Summarize in one or two sentences the following article:      \n",
    "{article}\n",
    "            \n",
    "Summary:\n",
    "            \"\"\"\n",
    "        \n",
    "        else:\n",
    "            raise ValueError(f\"Unsupported mode: {mode}\")\n",
    "        \n",
    "        input_ids = tokenizer(prompt, return_tensors=\"pt\", truncation=True, max_length=1024).input_ids\n",
    "\n",
    "        model_outputs = model.generate(input_ids=input_ids, max_new_tokens=200, num_beams=5)\n",
    "        model_text_output = tokenizer.decode(model_outputs[0], skip_special_tokens=True)\n",
    "        model_summaries.append(model_text_output)\n",
    "    \n",
    "    zipped_summaries = list(zip(highlights, model_summaries))\n",
    "    df = pd.DataFrame(zipped_summaries, columns=['Highlights', 'Model_summaries'])\n",
    "    #print(df.head(5))\n",
    "\n",
    "    # Compute ROUGE scores\n",
    "    model_results = rouge.compute(\n",
    "        predictions=model_summaries,\n",
    "        references=highlights[0:len(model_summaries)],\n",
    "        use_aggregator=True,\n",
    "        use_stemmer=True,\n",
    "    )\n",
    "    \n",
    "    return model_results\n"
   ]
  },
  {
   "cell_type": "code",
   "execution_count": 25,
   "id": "ad17f94f-28a5-4f74-b1d6-7b4879b48137",
   "metadata": {},
   "outputs": [
    {
     "name": "stderr",
     "output_type": "stream",
     "text": [
      "Evaluating: 100%|██████████| 100/100 [11:19<00:00,  6.79s/it]\n"
     ]
    },
    {
     "data": {
      "text/plain": [
       "{'rouge1': np.float64(0.34357522962453174),\n",
       " 'rouge2': np.float64(0.1398480893584535),\n",
       " 'rougeL': np.float64(0.24936714584583836),\n",
       " 'rougeLsum': np.float64(0.2494629813146576)}"
      ]
     },
     "execution_count": 25,
     "metadata": {},
     "output_type": "execute_result"
    }
   ],
   "source": [
    "evaluate_model_performance(model, mode='zero shot')"
   ]
  },
  {
   "cell_type": "markdown",
   "id": "60965364-4494-48d0-8dcd-9118cd241ce8",
   "metadata": {},
   "source": [
    "The original model struggles to reduce the summarisations to below 3 or 4 sentences. The CNN_daily mail dataset contains highlights that summarise the article in 1 or two sentences. \n",
    "\n",
    "With some basic prompt engineering the model still stuggles to reduce this further. This could possibly be improved with some fine tuning which is what we will try now."
   ]
  },
  {
   "cell_type": "markdown",
   "id": "999e72bc-91af-4ae9-a5dd-3a15fd512ae9",
   "metadata": {},
   "source": [
    "### Basic instruction finetuneing\n",
    "\n",
    "Adding a basic prefix before the article to add some additional context to the task"
   ]
  },
  {
   "cell_type": "markdown",
   "id": "023edc35-9836-433e-a4d7-8a4d3f3e76e6",
   "metadata": {},
   "source": [
    "The original BART model gets a rouge1 score of 0.36 which shows moderate performance."
   ]
  },
  {
   "cell_type": "code",
   "execution_count": 26,
   "id": "209253dc-54b7-4341-b950-510bbb68ef57",
   "metadata": {},
   "outputs": [
    {
     "data": {
      "text/plain": [
       "Dataset({\n",
       "    features: ['article', 'highlights', 'id'],\n",
       "    num_rows: 11490\n",
       "})"
      ]
     },
     "execution_count": 26,
     "metadata": {},
     "output_type": "execute_result"
    }
   ],
   "source": [
    "dataset['test']"
   ]
  },
  {
   "cell_type": "code",
   "execution_count": 27,
   "id": "d69b9b5e-dd88-4a5d-a4d2-a6a8fe90b7b2",
   "metadata": {},
   "outputs": [
    {
     "data": {
      "text/plain": [
       "DatasetDict({\n",
       "    train: Dataset({\n",
       "        features: ['article', 'highlights', 'id', 'input_ids', 'attention_mask', 'labels'],\n",
       "        num_rows: 287113\n",
       "    })\n",
       "    validation: Dataset({\n",
       "        features: ['article', 'highlights', 'id', 'input_ids', 'attention_mask', 'labels'],\n",
       "        num_rows: 13368\n",
       "    })\n",
       "    test: Dataset({\n",
       "        features: ['article', 'highlights', 'id', 'input_ids', 'attention_mask', 'labels'],\n",
       "        num_rows: 11490\n",
       "    })\n",
       "})"
      ]
     },
     "execution_count": 27,
     "metadata": {},
     "output_type": "execute_result"
    }
   ],
   "source": [
    "tokenized_datasets"
   ]
  },
  {
   "cell_type": "markdown",
   "id": "58592b58-f492-4ed0-a066-94b910f3a131",
   "metadata": {},
   "source": [
    "### Reduce training datset size to decrease training time"
   ]
  },
  {
   "cell_type": "code",
   "execution_count": 28,
   "id": "4cd13433-8b7b-4494-9b4f-5d808c64f637",
   "metadata": {},
   "outputs": [
    {
     "name": "stderr",
     "output_type": "stream",
     "text": [
      "Filter: 100%|██████████| 287113/287113 [03:35<00:00, 1334.12 examples/s]\n",
      "Filter: 100%|██████████| 13368/13368 [00:09<00:00, 1407.32 examples/s]\n",
      "Filter: 100%|██████████| 11490/11490 [00:08<00:00, 1392.78 examples/s]\n"
     ]
    }
   ],
   "source": [
    "# reduce the size of the dataset by 1/25th\n",
    "tokenized_dataset_reduced = tokenized_datasets.filter(lambda example, index: index % 25 == 0, with_indices=True)"
   ]
  },
  {
   "cell_type": "code",
   "execution_count": 29,
   "id": "a47976bd-3fae-4ce7-887a-ea2b52eb35b6",
   "metadata": {},
   "outputs": [
    {
     "data": {
      "text/plain": [
       "DatasetDict({\n",
       "    train: Dataset({\n",
       "        features: ['article', 'highlights', 'id', 'input_ids', 'attention_mask', 'labels'],\n",
       "        num_rows: 11485\n",
       "    })\n",
       "    validation: Dataset({\n",
       "        features: ['article', 'highlights', 'id', 'input_ids', 'attention_mask', 'labels'],\n",
       "        num_rows: 535\n",
       "    })\n",
       "    test: Dataset({\n",
       "        features: ['article', 'highlights', 'id', 'input_ids', 'attention_mask', 'labels'],\n",
       "        num_rows: 460\n",
       "    })\n",
       "})"
      ]
     },
     "execution_count": 29,
     "metadata": {},
     "output_type": "execute_result"
    }
   ],
   "source": [
    "tokenized_dataset_reduced"
   ]
  },
  {
   "cell_type": "code",
   "execution_count": 30,
   "id": "d8d05752-38d6-4ff4-9f2f-16d6b7a9093e",
   "metadata": {},
   "outputs": [
    {
     "name": "stdout",
     "output_type": "stream",
     "text": [
      "trainable model parameters: 406290432\n",
      "all model parameters: 406290432\n",
      "percentage of trainable model parameters: 100.00%\n"
     ]
    }
   ],
   "source": [
    "def print_number_of_trainable_model_parameters(model):\n",
    "    trainable_model_params = 0\n",
    "    all_model_params = 0\n",
    "    for _, param in model.named_parameters():\n",
    "        all_model_params += param.numel()\n",
    "        if param.requires_grad:\n",
    "            trainable_model_params += param.numel()\n",
    "    return f\"trainable model parameters: {trainable_model_params}\\nall model parameters: {all_model_params}\\npercentage of trainable model parameters: {100 * trainable_model_params / all_model_params:.2f}%\"\n",
    "\n",
    "print(print_number_of_trainable_model_parameters(model))"
   ]
  },
  {
   "cell_type": "code",
   "execution_count": 31,
   "id": "79066052-5c85-46ec-8742-bfb32be3bef8",
   "metadata": {
    "scrolled": true
   },
   "outputs": [
    {
     "data": {
      "text/plain": [
       "BartForConditionalGeneration(\n",
       "  (model): BartModel(\n",
       "    (shared): BartScaledWordEmbedding(50264, 1024, padding_idx=1)\n",
       "    (encoder): BartEncoder(\n",
       "      (embed_tokens): BartScaledWordEmbedding(50264, 1024, padding_idx=1)\n",
       "      (embed_positions): BartLearnedPositionalEmbedding(1026, 1024)\n",
       "      (layers): ModuleList(\n",
       "        (0-11): 12 x BartEncoderLayer(\n",
       "          (self_attn): BartSdpaAttention(\n",
       "            (k_proj): Linear(in_features=1024, out_features=1024, bias=True)\n",
       "            (v_proj): Linear(in_features=1024, out_features=1024, bias=True)\n",
       "            (q_proj): Linear(in_features=1024, out_features=1024, bias=True)\n",
       "            (out_proj): Linear(in_features=1024, out_features=1024, bias=True)\n",
       "          )\n",
       "          (self_attn_layer_norm): LayerNorm((1024,), eps=1e-05, elementwise_affine=True)\n",
       "          (activation_fn): GELUActivation()\n",
       "          (fc1): Linear(in_features=1024, out_features=4096, bias=True)\n",
       "          (fc2): Linear(in_features=4096, out_features=1024, bias=True)\n",
       "          (final_layer_norm): LayerNorm((1024,), eps=1e-05, elementwise_affine=True)\n",
       "        )\n",
       "      )\n",
       "      (layernorm_embedding): LayerNorm((1024,), eps=1e-05, elementwise_affine=True)\n",
       "    )\n",
       "    (decoder): BartDecoder(\n",
       "      (embed_tokens): BartScaledWordEmbedding(50264, 1024, padding_idx=1)\n",
       "      (embed_positions): BartLearnedPositionalEmbedding(1026, 1024)\n",
       "      (layers): ModuleList(\n",
       "        (0-11): 12 x BartDecoderLayer(\n",
       "          (self_attn): BartSdpaAttention(\n",
       "            (k_proj): Linear(in_features=1024, out_features=1024, bias=True)\n",
       "            (v_proj): Linear(in_features=1024, out_features=1024, bias=True)\n",
       "            (q_proj): Linear(in_features=1024, out_features=1024, bias=True)\n",
       "            (out_proj): Linear(in_features=1024, out_features=1024, bias=True)\n",
       "          )\n",
       "          (activation_fn): GELUActivation()\n",
       "          (self_attn_layer_norm): LayerNorm((1024,), eps=1e-05, elementwise_affine=True)\n",
       "          (encoder_attn): BartSdpaAttention(\n",
       "            (k_proj): Linear(in_features=1024, out_features=1024, bias=True)\n",
       "            (v_proj): Linear(in_features=1024, out_features=1024, bias=True)\n",
       "            (q_proj): Linear(in_features=1024, out_features=1024, bias=True)\n",
       "            (out_proj): Linear(in_features=1024, out_features=1024, bias=True)\n",
       "          )\n",
       "          (encoder_attn_layer_norm): LayerNorm((1024,), eps=1e-05, elementwise_affine=True)\n",
       "          (fc1): Linear(in_features=1024, out_features=4096, bias=True)\n",
       "          (fc2): Linear(in_features=4096, out_features=1024, bias=True)\n",
       "          (final_layer_norm): LayerNorm((1024,), eps=1e-05, elementwise_affine=True)\n",
       "        )\n",
       "      )\n",
       "      (layernorm_embedding): LayerNorm((1024,), eps=1e-05, elementwise_affine=True)\n",
       "    )\n",
       "  )\n",
       "  (lm_head): Linear(in_features=1024, out_features=50264, bias=False)\n",
       ")"
      ]
     },
     "execution_count": 31,
     "metadata": {},
     "output_type": "execute_result"
    }
   ],
   "source": [
    "model"
   ]
  },
  {
   "cell_type": "code",
   "execution_count": 32,
   "id": "19e45805-3398-4cf6-a94f-f5eb1b40e19f",
   "metadata": {},
   "outputs": [],
   "source": [
    "# Load model and tokenizer\n",
    "model = BartForConditionalGeneration.from_pretrained(\"facebook/bart-large-cnn\")\n",
    "tokenizer = AutoTokenizer.from_pretrained(\"facebook/bart-large-cnn\")"
   ]
  },
  {
   "cell_type": "code",
   "execution_count": 33,
   "id": "8dab2b16-d7aa-4254-8170-089820f10c07",
   "metadata": {},
   "outputs": [],
   "source": [
    "# Freeze all encoder layers except the last 2\n",
    "for i, layer in enumerate(model.model.encoder.layers):\n",
    "    if i < len(model.model.encoder.layers) - 2:\n",
    "        for param in layer.parameters():\n",
    "            param.requires_grad = False\n",
    "\n",
    "# Freeze all decoder layers except the last 2\n",
    "for i, layer in enumerate(model.model.decoder.layers):\n",
    "    if i < len(model.model.decoder.layers) - 2:\n",
    "        for param in layer.parameters():\n",
    "            param.requires_grad = False\n"
   ]
  },
  {
   "cell_type": "code",
   "execution_count": 34,
   "id": "a19f4ffb-466a-4fa6-b27f-b67d8f7b1ff5",
   "metadata": {},
   "outputs": [
    {
     "name": "stdout",
     "output_type": "stream",
     "text": [
      "trainable model parameters: 112361472\n",
      "all model parameters: 406290432\n",
      "percentage of trainable model parameters: 27.66%\n"
     ]
    }
   ],
   "source": [
    "print(print_number_of_trainable_model_parameters(model))"
   ]
  },
  {
   "cell_type": "code",
   "execution_count": 35,
   "id": "9caa1e42-e71a-4992-9aff-88dcd9d46b4f",
   "metadata": {
    "scrolled": true
   },
   "outputs": [
    {
     "name": "stderr",
     "output_type": "stream",
     "text": [
      "C:\\Users\\tom_r\\anaconda3\\envs\\Generative_AI\\Lib\\site-packages\\transformers\\training_args.py:1525: FutureWarning: `evaluation_strategy` is deprecated and will be removed in version 4.46 of 🤗 Transformers. Use `eval_strategy` instead\n",
      "  warnings.warn(\n"
     ]
    }
   ],
   "source": [
    "output_dir = f'./article-highlight-training-{str(int(time.time()))}'\n",
    "\n",
    "\n",
    "training_args = TrainingArguments(\n",
    "    output_dir=output_dir,\n",
    "    learning_rate=1e-5,  \n",
    "    per_device_train_batch_size=4,  \n",
    "    gradient_accumulation_steps=2,  \n",
    "    num_train_epochs=3, \n",
    "    warmup_steps=50, \n",
    "    weight_decay=0.01,\n",
    "    logging_steps=10,\n",
    "    evaluation_strategy=\"steps\",\n",
    "    eval_steps=500,\n",
    "    save_steps=1000,\n",
    "    save_total_limit=6,\n",
    "    load_best_model_at_end=True,\n",
    "    report_to=\"none\"\n",
    ")\n",
    "\n",
    "data_collator = DataCollatorForSeq2Seq(tokenizer, model=model)\n",
    "\n",
    "trainer = Trainer(\n",
    "    model=model,\n",
    "    args=training_args,\n",
    "    train_dataset=tokenized_dataset_reduced['train'],\n",
    "    eval_dataset=tokenized_dataset_reduced['validation'],\n",
    "    data_collator=data_collator \n",
    ")\n"
   ]
  },
  {
   "cell_type": "code",
   "execution_count": 36,
   "id": "48954eb9-38be-4e9c-8fd3-be09aab55c56",
   "metadata": {
    "scrolled": true
   },
   "outputs": [
    {
     "name": "stderr",
     "output_type": "stream",
     "text": [
      "C:\\Users\\tom_r\\anaconda3\\envs\\Generative_AI\\Lib\\site-packages\\transformers\\models\\bart\\modeling_bart.py:496: UserWarning: 1Torch was not compiled with flash attention. (Triggered internally at C:\\cb\\pytorch_1000000000000\\work\\aten\\src\\ATen\\native\\transformers\\cuda\\sdp_utils.cpp:555.)\n",
      "  attn_output = torch.nn.functional.scaled_dot_product_attention(\n"
     ]
    },
    {
     "data": {
      "text/html": [
       "\n",
       "    <div>\n",
       "      \n",
       "      <progress value='4308' max='4308' style='width:300px; height:20px; vertical-align: middle;'></progress>\n",
       "      [4308/4308 4:03:07, Epoch 3/3]\n",
       "    </div>\n",
       "    <table border=\"1\" class=\"dataframe\">\n",
       "  <thead>\n",
       " <tr style=\"text-align: left;\">\n",
       "      <th>Step</th>\n",
       "      <th>Training Loss</th>\n",
       "      <th>Validation Loss</th>\n",
       "    </tr>\n",
       "  </thead>\n",
       "  <tbody>\n",
       "    <tr>\n",
       "      <td>500</td>\n",
       "      <td>1.154000</td>\n",
       "      <td>1.481511</td>\n",
       "    </tr>\n",
       "    <tr>\n",
       "      <td>1000</td>\n",
       "      <td>1.283600</td>\n",
       "      <td>1.474070</td>\n",
       "    </tr>\n",
       "    <tr>\n",
       "      <td>1500</td>\n",
       "      <td>1.160900</td>\n",
       "      <td>1.484079</td>\n",
       "    </tr>\n",
       "    <tr>\n",
       "      <td>2000</td>\n",
       "      <td>1.191500</td>\n",
       "      <td>1.476055</td>\n",
       "    </tr>\n",
       "    <tr>\n",
       "      <td>2500</td>\n",
       "      <td>1.141800</td>\n",
       "      <td>1.479574</td>\n",
       "    </tr>\n",
       "    <tr>\n",
       "      <td>3000</td>\n",
       "      <td>1.044700</td>\n",
       "      <td>1.493982</td>\n",
       "    </tr>\n",
       "    <tr>\n",
       "      <td>3500</td>\n",
       "      <td>1.213900</td>\n",
       "      <td>1.496370</td>\n",
       "    </tr>\n",
       "    <tr>\n",
       "      <td>4000</td>\n",
       "      <td>1.123800</td>\n",
       "      <td>1.491308</td>\n",
       "    </tr>\n",
       "  </tbody>\n",
       "</table><p>"
      ],
      "text/plain": [
       "<IPython.core.display.HTML object>"
      ]
     },
     "metadata": {},
     "output_type": "display_data"
    },
    {
     "name": "stderr",
     "output_type": "stream",
     "text": [
      "Some non-default generation parameters are set in the model config. These should go into a GenerationConfig file (https://huggingface.co/docs/transformers/generation_strategies#save-a-custom-decoding-strategy-with-your-model) instead. This warning will be raised to an exception in v4.41.\n",
      "Non-default generation parameters: {'max_length': 142, 'min_length': 56, 'early_stopping': True, 'num_beams': 4, 'length_penalty': 2.0, 'no_repeat_ngram_size': 3, 'forced_bos_token_id': 0, 'forced_eos_token_id': 2}\n",
      "Some non-default generation parameters are set in the model config. These should go into a GenerationConfig file (https://huggingface.co/docs/transformers/generation_strategies#save-a-custom-decoding-strategy-with-your-model) instead. This warning will be raised to an exception in v4.41.\n",
      "Non-default generation parameters: {'max_length': 142, 'min_length': 56, 'early_stopping': True, 'num_beams': 4, 'length_penalty': 2.0, 'no_repeat_ngram_size': 3, 'forced_bos_token_id': 0, 'forced_eos_token_id': 2}\n",
      "Some non-default generation parameters are set in the model config. These should go into a GenerationConfig file (https://huggingface.co/docs/transformers/generation_strategies#save-a-custom-decoding-strategy-with-your-model) instead. This warning will be raised to an exception in v4.41.\n",
      "Non-default generation parameters: {'max_length': 142, 'min_length': 56, 'early_stopping': True, 'num_beams': 4, 'length_penalty': 2.0, 'no_repeat_ngram_size': 3, 'forced_bos_token_id': 0, 'forced_eos_token_id': 2}\n",
      "Some non-default generation parameters are set in the model config. These should go into a GenerationConfig file (https://huggingface.co/docs/transformers/generation_strategies#save-a-custom-decoding-strategy-with-your-model) instead. This warning will be raised to an exception in v4.41.\n",
      "Non-default generation parameters: {'max_length': 142, 'min_length': 56, 'early_stopping': True, 'num_beams': 4, 'length_penalty': 2.0, 'no_repeat_ngram_size': 3, 'forced_bos_token_id': 0, 'forced_eos_token_id': 2}\n",
      "Some non-default generation parameters are set in the model config. These should go into a GenerationConfig file (https://huggingface.co/docs/transformers/generation_strategies#save-a-custom-decoding-strategy-with-your-model) instead. This warning will be raised to an exception in v4.41.\n",
      "Non-default generation parameters: {'max_length': 142, 'min_length': 56, 'early_stopping': True, 'num_beams': 4, 'length_penalty': 2.0, 'no_repeat_ngram_size': 3, 'forced_bos_token_id': 0, 'forced_eos_token_id': 2}\n",
      "There were missing keys in the checkpoint model loaded: ['model.encoder.embed_tokens.weight', 'model.decoder.embed_tokens.weight', 'lm_head.weight'].\n"
     ]
    },
    {
     "data": {
      "text/plain": [
       "TrainOutput(global_step=4308, training_loss=1.1983859448269107, metrics={'train_runtime': 14591.2478, 'train_samples_per_second': 2.361, 'train_steps_per_second': 0.295, 'total_flos': 7.176828881040998e+16, 'train_loss': 1.1983859448269107, 'epoch': 3.0})"
      ]
     },
     "execution_count": 36,
     "metadata": {},
     "output_type": "execute_result"
    }
   ],
   "source": [
    "trainer.train()"
   ]
  },
  {
   "cell_type": "markdown",
   "id": "2d9600ae-29fe-474a-9590-dfd77f4ac11a",
   "metadata": {},
   "source": [
    "## Test out finetuned model"
   ]
  },
  {
   "cell_type": "code",
   "execution_count": 40,
   "id": "2ddb1df4-8a15-46d7-8f5e-053cce3cb885",
   "metadata": {},
   "outputs": [],
   "source": [
    "# Load finetuned model\n",
    "finetuned_model = BartForConditionalGeneration.from_pretrained(r\"C:\\Users\\tom_r\\Desktop\\Generative-AI\\LLM_Projects\\article-highlight-training-1727169079\\checkpoint-4000\")\n"
   ]
  },
  {
   "cell_type": "code",
   "execution_count": 41,
   "id": "e30d3761-1d91-453e-9148-f5a046a74db8",
   "metadata": {},
   "outputs": [
    {
     "name": "stderr",
     "output_type": "stream",
     "text": [
      "Evaluating: 100%|██████████| 100/100 [13:24<00:00,  8.05s/it]\n"
     ]
    },
    {
     "data": {
      "text/plain": [
       "{'rouge1': np.float64(0.3077913615461613),\n",
       " 'rouge2': np.float64(0.1184709166564583),\n",
       " 'rougeL': np.float64(0.22146676590365294),\n",
       " 'rougeLsum': np.float64(0.2209549607578961)}"
      ]
     },
     "execution_count": 41,
     "metadata": {},
     "output_type": "execute_result"
    }
   ],
   "source": [
    "evaluate_model_performance(finetuned_model, mode='one shot')"
   ]
  },
  {
   "cell_type": "code",
   "execution_count": 133,
   "id": "2e7e68ec-8d37-4f9a-a666-2e714d3ac494",
   "metadata": {
    "scrolled": true
   },
   "outputs": [
    {
     "name": "stdout",
     "output_type": "stream",
     "text": [
      "----------------------------------------------------------------------------------------------------\n",
      "Example  1\n",
      "----------------------------------------------------------------------------------------------------\n",
      "INPUT PROMPT:\n",
      "Norfolk, Virginia (CNN)The second mate of the Houston Express probably couldn't believe what he was seeing. Hundreds of miles from land there was a small boat nearby. At first it looked abandoned. It was in bad shape, listing to one side. The crew of the 1,000-foot long container ship thought it was a yacht that had wrecked. Incredibly, as they got closer, they saw there was a man on it, signaling for help. \"He was moving, walking around, waving to us and in surprisingly good condition,\" Capt. Thomas Grenz told CNN by phone Friday. That man, Louis Jordan, 37, had an amazing story. He'd been drifting on the 35-foot Pearson sailboat for more than two months since leaving Conway, South Carolina, to fish in the ocean. Just a few days into his trip, a storm capsized his boat and broke his mast. One of his shoulders was broken, too, so he couldn't fix the boat right away. Eventually he was able to rig a makeshift mast and sail, but he could make little headway against the currents. \"It took so long,\" Jordan said.  \"It moved so slowly.\" The boat capsized two more times before he was rescued, according to Jordan. His father, Frank Jordan, told CNN's Jim Sciutto that he was expecting his son to look different. \"He looked good. Hadn't lost too much weight. He wasn't badly sunburned like I thought he probably would be,\" he said. Lost at sea for 66 days . After his food and water ran out, it became an issue of survival. Collecting fresh water was a nightmare for Jordan.  The weather wouldn't cooperate. Records show there were more than a dozen storms off the coast of the Carolinas during the time he was missing. The precipitation came at night during harsh conditions. \"I had tried to collect (rain)water ... but every time the waves would splash into the boat,\" Jordan said.  \"The waves would put saltwater into my freshwater and it tasted bad. \"Finally the conditions were right.  I filled up my water tank, which is 25 gallons.  I filled up a bucket.\" Then there was the issue of food. The fish weren't cooperating, but after a while Jordan learned they were attracted to his laundry, which he would put out to sea for a rinse. The fish would swim in and out of his clothes and he could easily scoop them up with a hand net, he said. Jordan came ashore Thursday evening. CNN affiliate WAVY in Norfolk, Virginia, reported that he was able to walk from the helicopter into Sentara Norfolk General Hospital about 7:30 p.m. Coast Guard officials have said they have found no reason to doubt Jordan's incredible story. They noted that his father contacted them January 29 to report his son and his boat missing. Frank Jordan addressed the skepticism about his son's appearance, saying the boat stayed afloat and upright most of the time. His son spent most of his days in the cabin, out of the sun. Frank Jordan said it was obvious when the Jordans met at the hospital Friday morning that his normally low-key and private son had been through an ordeal. \"I know he went through what he went through,\" Frank Jordan said. Jordan is an unemployed truck driver who lived on his boat at a marina in Conway. He had free rent and free food in the river, he said. But when it became difficult to catch dinner, he took off for the ocean in hopes he would land some bigger fish. Frank Jordan told CNN's Wolf Blitzer on Thursday that he had worried about his son, who is an inexperienced sailor, but he held hope because his son had a good boat. And he had the strength to make it. \"He's got a very strong constitution and (is strong) not only physically, but spiritually,\" Frank Jordan said. \"And he told me on the phone that he was praying the whole time, so I believe that sustained him a great deal.\" Rescue swimmer Kyle McCollum was the first to care for Jordan on the flight back to land. \"You would expect sunburns, severe sunburn, blisters maybe ... a bunch of medical issues that could possibly be wrong with him,\" he said. \"But for him to be in his current state was pretty amazing.\" Grenz was also surprised by Jordan's condition, physically and mentally. The rescued sailor knew almost exactly what day it was, remarkable for someone who had been on the water for more than 60 days. Jordan was dehydrated and said he was hungry. \"We took him to a rescue boat,\" the container ship captain said. \"He was given water and pea soup to gain some power again.\" Derriel Morris, a neighbor at the Bucksport Plantation Marina & RV Resort called Jordan a nice guy who loved his 47-year-old boat, named \"Angel.\" Morris said: \"It was immaculate, it was gorgeous, beautifully painted. I mean it looked like a brand new sailboat.\" Morris told CNN affiliate WPDE that one day in January he was going to the store and Jordan asked him to bring back some coffee creamer. But when he returned to the marina, Jordan had slipped away. \"There was no shore line, no hose; it was like he was never there,\" Morris told the station. After he disappeared others who also live there held a candlelight ceremony. The marina's manager, Jeff Weeks, told WPDE that Jordan is expected to be back at Buscksport next week. Tales of people who cheated death after days, weeks adrift .\n",
      "----------------------------------------------------------------------------------------------------\n",
      "BASELINE HUMAN SUMMARY:\n",
      "Father: \"I know he went through what he went through\" Louis Jordan was found on his sailboat, which was listing and in bad shape, rescuer says . He appears to be in good shape, physically and mentally .\n",
      "----------------------------------------------------------------------------------------------------\n",
      "Finetuned BART model:\n",
      "Louis Jordan, 37, had been drifting on the 35-foot Pearson sailboat for more than two months. He'd left Conway, South Carolina, to fish in the ocean. Just a few days into his trip, a storm capsized his boat and broke his mast.\n",
      "\n",
      "----------------------------------------------------------------------------------------------------\n",
      "Example  2\n",
      "----------------------------------------------------------------------------------------------------\n",
      "INPUT PROMPT:\n",
      "(CNN)According to an outside review by Columbia Journalism School professors, \"(a)n institutional failure at Rolling Stone resulted in a deeply flawed article about a purported gang rape at the University of Virginia.\" The Columbia team concluded that \"The failure encompassed reporting, editing, editorial supervision and fact-checking.\" Hardly a ringing endorsement of the editorial process at the publication. The magazine's managing editor, Will Dana, wrote, \"We would like to apologize to our readers and to all of those who were damaged by our story and the ensuing fallout, including members of the Phi Kappa Psi fraternity and UVA administrators and students.\" Brian Stelter: Fraternity to 'pursue all available legal action' The next question is: . Can UVA, Phi Kappa Psi or any of the other fraternities on campus sue for defamation? The Virginia Supreme Court said in Jordan v. Kollman that \"the elements of libel are (1) publication of (2) an actionable statement with (3) the requisite intent.\" \"Actionable\" means the statement must be both false and defamatory. Of course, the law of defamation must be balanced against the freedom of speech protected under not only the First Amendment to the United States Constitution, but also the Virginia Constitution. True statements cannot be defamatory. Neither can pure statements of opinion, because they theoretically cannot be either true or false. But the Rolling Stone article certainly purported to be fact, and it apparently is not exactly what the law considers \"true.\" The individual members of the fraternity will likely be considered private individuals, and not public figures; the latter have a harder time proving defamation. A private person suing for defamation must establish that the defendant has published a false factual statement that is about the person and that it also harms the person's reputation. The private plaintiff also must show that the defendant knew that the statement was false, or believed it was true but lacked a reasonable basis, or acted negligently in checking the facts. At first blush, that sounds like it fits perfectly, right? The Columbia report may go a long way toward establishing at least a modicum of the required intent. But that's only half the battle. There are strict rules about who can be a plaintiff in a defamation action like this. The identity of the aspiring plaintiff matters. First, let's eliminate UVA. The university is a public university, and therefore it is a governmental entity. The Supreme Court has been clear on the issue of libelous statements about the government: The government cannot sue for defamation. There is no such cause of action in American jurisprudence. Now the fraternities, starting with Phi Kappa Psi. A fraternity is not an individual, but a group. A plaintiff in a defamation case must show that the statements were \"of or concerning\" the plaintiff. It sounds obvious, but if you're going to say a statement hurt you, you have to prove the statement actually was about you to begin with. When the statements are about a group without naming an individual, it's hard to say the statement is \"concerning\" the individual -- and groups generally cannot sue.  For example, you can be sued if you call a specific lawyer a thief, but that same person cannot sue you if you simply call all lawyers thieves. Defamatory statements about a group are therefore not actionable by the group's individual members, for the most part. Like all rules, however, there are exceptions. If the defamatory language is about \"a comparatively small group of persons and the defamatory part is easily imputed against all members of the small group, an individual member may sue.\" If I said, \"The 1980 Philadelphia Phillies infielders were a bunch of criminals\" (they weren't),  the individual players could sue, because that mean statement is clearly about certain persons -- if I said that -- which I didn't. Phi Kappa Psi would likely argue that the \"small group\" exception fits it perfectly: Even if the individual members were not identified by name, the defamatory story has been imputed directly to individual members, who have suffered by their association with the group. On the other hand, Rolling Stone's lawyers would likely argue that the group is so large and fluid (after all, the membership changes somewhat every year), that even though the fraternity's reputation is tarnished, the members have suffered no individualized injury. As for the other fraternities on campus but not implicated in the story, that's likely a group that moves from the small category to large, and the members of Greek life generally will have a harder time bringing a lawsuit. Lawyers will tell you that a libel suit is one of those things that citizens often threaten each other with on Facebook, but that such cases are rarely actually filed. That's because a plaintiff usually has to show some kind of financial harm. So if your Aunt Edna calls you a loser on Twitter, you're going to have to spend money on an expert to explain to a jury how that actually damaged you financially. And since most of the people who waste time threatening each other with defamation suits  on Facebook live in their moms' basements and are \"between jobs,\" these are not the kind of people who have money or reputation to damage in the first place. The UVA situation is not your run-of-the-mill defamation case. The university won't be able to sue, but if the members of the fraternity can get past some of the preliminary hurdles of a defamation claim, and they can make a tangible case for damages, then this could be one of those rare successful defamation cases.\n",
      "----------------------------------------------------------------------------------------------------\n",
      "BASELINE HUMAN SUMMARY:\n",
      "An outside review found that a Rolling Stone article about campus rape was \"deeply flawed\" Danny Cevallos says that there are obstacles to a successful libel case, should one be filed .\n",
      "----------------------------------------------------------------------------------------------------\n",
      "Finetuned BART model:\n",
      "David Perry: Rolling Stone article about alleged gang rape at UVA has been widely criticized. Perry: Can UVA, Phi Kappa Psi or other fraternities sue for defamation? He says there are strict rules about who can be a plaintiff in a defamation action like this. Perry says the identity of the aspiring plaintiff matters. He says the law of defamation must be balanced against freedom of speech.\n",
      "\n",
      "----------------------------------------------------------------------------------------------------\n",
      "Example  3\n",
      "----------------------------------------------------------------------------------------------------\n",
      "INPUT PROMPT:\n",
      "(CNN)When I was elected to the Kentucky State Senate in 1967, I became the first woman and the first person of color to serve in the body.  Five decades later, I find it almost unfathomable that a politician from my own state is attempting to launch his presidential campaign on a record that includes questioning landmark voting rights and civil rights legislation. But that is what Rand Paul, who today declared he's running for president of the United States, is doing. His campaign team told reporters last week that his campaign announcement message would be about \"expanding the Republican Party\" -- a message of inclusion. But those of us listening today who he is hoping to include, heard nothing more than hype. I'm not buying it. Since coming to the U.S. Senate, Paul has tried to sell himself as a different type of Republican.  He's tried to brand himself as the GOP's minority outreach candidate.  The problem for Paul, and the GOP at large, is that they don't back up their words with their policies. Yes, it's about time that Republicans started seriously considering the fact that black voters are an important piece of the electoral puzzle.  But they can't actually appeal to the community unless they have a real commitment to the issues facing minority communities.  A quick survey of Sen. Paul's positions makes clear that he does not. Paul kicked off his announcement speech in Louisville by declaring \"I have a message that is loud and clear:  We have come to take our country back.\"  I have no doubt that under Paul's leadership, he would indeed take our country back -- in the wrong direction -- way back to a time when we were debating the Civil Rights Act --  which Paul has done since landing on the national stage; when there was no Department of Education -- a department he thinks \"should be done away with;\" when women didn't have choices -- choices Paul seeks to limit in Washington; when DREAMers weren't protected from deportation -- protections Paul currently opposes. In his inept speaking engagements at historically black colleges and universities, he has come across as condescending and lacking basic cultural competency. But Paul has also questioned the Civil Rights Act, and even claimed that private business owners have a right to discriminate. When asked about the need for a more robust Voting Rights Act following the Supreme Court's dismantling of the law, Paul dismissively remarked, \"We have an African-American President.\" When President Obama stood with John Lewis and other veterans of the civil rights movement in front of the Edmund Pettus Bridge last month to mark the 50th anniversary of Bloody Sunday, he inspired us all by saying: \"With effort, we can roll back poverty and the roadblocks to opportunity. ... With effort, we can protect the foundation stone of our democracy for which so many marched across this bridge -- and that is the right to vote.\" America is better -- and we solve more problems -- with more democracy, not less.  Unfortunately Rand Paul has demonstrated that he disagree with that basic principle.  Paul tried once again from that stage in Louisville to fashion himself as the one member of his party courageous enough to try to broaden Republican appeal to constituencies they ignore year after year. But his record makes it very clear that his views are outdated, outside of the mainstream, and disqualifying for a man who wants to lead our country. The American people deserve a leader who won't disrespect their intelligence, who won't pander to them when it's convenient, and who won't work to dismantle the progress we have made over the last five decades. What I heard today, didn't change the facts about Rand Paul's record.  The American people deserve better than Rand Paul.\n",
      "----------------------------------------------------------------------------------------------------\n",
      "BASELINE HUMAN SUMMARY:\n",
      "Georgia Powers: Rand Paul, running for president, would like minorities to think he's an advocate. His record on rights shows otherwise . On civil rights, women's choice, voting rights, immigrant DREAMers, education, he has shown he'd take country backwards, she says .\n",
      "----------------------------------------------------------------------------------------------------\n",
      "Finetuned BART model:\n",
      "Sen. Rand Paul announced he's running for president. Rand Paul has tried to brand himself as the GOP's minority outreach candidate, says Donna Brazile. Brazile: Paul has also questioned the Civil Rights Act, and even claimed that private business owners have a right to discriminate.\n",
      "\n",
      "----------------------------------------------------------------------------------------------------\n",
      "Example  4\n",
      "----------------------------------------------------------------------------------------------------\n",
      "INPUT PROMPT:\n",
      "(CNN)Anthony Ray Hinton is thankful to be free after nearly 30 years on Alabama's death row for murders he says he didn't commit. And incredulous that it took so long. Hinton, 58, looked up, took in the sunshine and thanked God and his lawyers Friday morning outside the county jail in Birmingham, minutes after taking his first steps as a free man since 1985. He spoke of unjustly losing three decades of his life, under fear of execution, for something he didn't do. \"All they had to do was to test the gun, but when you think you're high and mighty and you're above the law, you don't have to answer to nobody,\" Hinton told reporters. \"But I've got news for you -- everybody that played a part in sending me to death row, you will answer to God.\" Jefferson County Circuit Court Judge Laura Petro had ordered Hinton released after granting the state's motion to dismiss charges against him. Hinton was convicted of murder in the 1985 deaths of two Birmingham-area, fast-food restaurant managers, John Davidson and Thomas Wayne Vason. But a new trial was ordered in 2014 after firearms experts testified 12 years earlier that the revolver Hinton was said to have used in the crimes could not be matched to evidence in either case, and the two killings couldn't be linked to each other. \"Death Row Stories\": Hard questions about the U.S. capital punishment system . The state then declined to re-prosecute the case. Hinton was 29 at the time of the killings and had always maintained his innocence, said the Equal Justice Initiative, a group that helped win his release. \"Race, poverty, inadequate legal assistance, and prosecutorial indifference to innocence conspired to create a textbook example of injustice,\" Bryan Stevenson, the group's executive director and Hinton's lead attorney, said of his African-American client. \"I can't think of a case that more urgently dramatizes the need for reform than what has happened to Anthony Ray Hinton.\" Stevenson said the \"refusal of state prosecutors to re-examine this case despite persuasive and reliable evidence of innocence is disappointing and troubling.\" Amnesty report: Executions down but death sentences on the rise . Dressed in a dark suit and blue shirt, Hinton praised God for his release, saying he was sent \"not just a lawyer, but the best lawyers.\" He said he will continue to pray for the families of the murder victims. Both he and those families have suffered a miscarriage of justice, he said. \"For all of us that say that we believe in justice, this is the case to start showing, because I shouldn't have (sat) on death row for 30 years,\" he said. Woman who spent 22 years on death row has case tossed . Hinton was accompanied Friday by two of his sisters, one of whom still lives in the Birmingham area. Other siblings will fly to the area to see him soon, Stevenson said. His mother, with whom he lived at the time of his arrest, is no longer living, according to the lawyer. Hinton planned to spend at least this weekend at the home of a close friend. He will meet with his attorneys Monday to start planning for his immediate needs, such as obtaining identification and getting a health checkup, Stevenson said. The plan now is to spend a few weeks to get oriented with freedom and \"sort out what he wants to do,\" Stevenson said.\n",
      "----------------------------------------------------------------------------------------------------\n",
      "BASELINE HUMAN SUMMARY:\n",
      "Anthony Ray Hinton goes free Friday, decades after conviction for two murders . Court ordered new trial in 2014, years after gun experts testified on his behalf . Prosecution moved to dismiss charges this year .\n",
      "----------------------------------------------------------------------------------------------------\n",
      "Finetuned BART model:\n",
      "Anthony Ray Hinton was convicted of murder in the 1985 deaths of two Birmingham-area, fast-food restaurant managers. A new trial was ordered in 2014 after firearms experts testified 12 years earlier that the revolver could not be matched to evidence in either case. The state then declined to re-prosecute the case.\n",
      "\n",
      "----------------------------------------------------------------------------------------------------\n",
      "Example  5\n",
      "----------------------------------------------------------------------------------------------------\n",
      "INPUT PROMPT:\n",
      "(CNN)Former New England Patriots star Aaron Hernandez will need to keep his lawyers even after being convicted of murder and other charges in the death of Odin Lloyd. The 25-year-old potentially faces three more trials -- one criminal and two civil actions. Next up is another murder trial in which he is accused of killing two men and wounding another person near a Boston nightclub in July 2012. Prosecutors have said Hernandez fatally shot Daniel de Abreu and Safiro Furtado when he fired into their 2003 BMW.  Another passenger was wounded and two others were uninjured. Hernandez pleaded not guilty at his arraignment. The trial was originally slated for May 28, but Jake Wark, spokesman for the Suffolk County District Attorney's Office, said Wednesday the trial had been postponed and no new date had been set. \"We expect to select a new court date in the coming days and then set the amended trial track. The Suffolk indictments allege two counts of first-degree murder for the July 16, 2012, shooting deaths of Daniel de Abreu and Safiro Furtado in Boston's South End; three counts of armed assault with intent to murder and one count of assault and battery by means of a dangerous weapon for shots fired at three surviving victims; and one count of unlawful possession of a firearm,\" he said. The families of de Abreu and Furtado filed civil suits against Hernandez, and a judge froze his $5 million in assets, pending the outcome of the double-murder trial. The freeze includes the disputed $3.3 million signing bonus payment Hernandez claims he is owed by the New England Patriots. Hernandez is also being sued by a man who claims Hernandez shot him while they were in a limousine in Miami in February 2013. Alexander Bradley claims the then-New England Patriot tight end wounded him after the two got into a fight at a Miami strip club. In a lawsuit filed four months later, Bradley said Hernandez fired at him during a limo ride after leaving the club and that Hernandez intentionally \"possessed a gun which he was not legally licensed to have.\" Hernandez's lawyers have argued he couldn't defend himself properly while on trial in Massachusetts. There was no criminal charge in the case. And then there is the grievance over unpaid bonus money filed by the NFL players union on behalf of Hernandez, who signed a contract in 2012 that potentially was worth more than $40 million. If the grievance is heard by the league, Hernandez will be represented by the the National Football League Players' Association. Who was Odin Lloyd? CNN's Lawrence Crook contributed to this report.\n",
      "----------------------------------------------------------------------------------------------------\n",
      "BASELINE HUMAN SUMMARY:\n",
      "Aaron Hernandez has been found guilty in Odin Lloyd's death, but his troubles are not over . He also faces murder charges in Suffolk County, Massachusetts, but trial was postponed . In addition, Hernandez will face two civil lawsuits; one is in relation to Suffolk County case .\n",
      "----------------------------------------------------------------------------------------------------\n",
      "Finetuned BART model:\n",
      "Aaron Hernandez potentially faces three more trials -- one criminal and two civil actions. He is accused of killing two men and wounding another person near a Boston nightclub in July 2012. Prosecutors have said Hernandez fatally shot Daniel de Abreu and Safiro Furtado when he fired into their 2003 BMW.\n",
      "\n",
      "----------------------------------------------------------------------------------------------------\n",
      "Example  6\n",
      "----------------------------------------------------------------------------------------------------\n",
      "INPUT PROMPT:\n",
      "(CNN)A measles outbreak that affected more than 130 Californians since December is over, the California Department of Public Health declared Friday. It has been 42 days since the last known case of B3 strain of measles, the equivalent of two successive incubation periods, said Dr. Karen Smith, director of the health department. The department said in its latest update that 131 people came down with the B3 strain, and five who had a different genotype than the outbreak strain. Of the 131 cases, the state was able to obtain the vaccination status for 81 patients. Of the 81, 70% were unvaccinated. \"Prompt investigation of cases, interviewing hundreds of contacts of infected people, vaccinating hundreds of at risk people, and increasing awareness among health care providers about measles, helped to control this outbreak,\" Smith said. The outbreak began with dozens of visitors to two Disney theme parks in the state. The health department said 42 of the cases occurred from December 17-20. Two patients with rashes have been identified in April, but they have a different measles genotype. The Centers for Disease Control and Prevention said on its website that 19 different strains have been discovered since 1990. Measles is a highly contagious respiratory disease. It causes fever, red and sore eyes, runny nose, cough and a rash. It can cause deadly health complications, including pneumonia and encephalitis. It  is spread by contact with an infected person through coughing or sneezing. It can remain in the air and on surfaces for up to two hours. CNN's Debra Goldschmidt contributed to this report.\n",
      "----------------------------------------------------------------------------------------------------\n",
      "BASELINE HUMAN SUMMARY:\n",
      "Officials say 131 Californians were affected by one strain, five by other strains . About 70% of the people who could show health records were unvaccinated . Outbreak began in December among visitors to two Disney theme parks .\n",
      "----------------------------------------------------------------------------------------------------\n",
      "Finetuned BART model:\n",
      "It has been 42 days since the last known case of the B3 strain of measles. Of the 131 cases, the state was able to obtain the vaccination status for 81 patients. The outbreak began with dozens of visitors to two Disney theme parks in the state. Measles is a highly contagious respiratory disease.\n",
      "\n",
      "----------------------------------------------------------------------------------------------------\n",
      "Example  7\n",
      "----------------------------------------------------------------------------------------------------\n",
      "INPUT PROMPT:\n",
      "(CNN)A freshly fallen tree in the roadway was Jason Warnock's first clue. Warnock was driving through a canyon in Lewiston, Idaho, on Wednesday when he saw the tree, then looked up to see an SUV dangling over the edge of a cliff. The only thing holding the GMC Yukon and its terrified driver from a 30-foot drop was a crumpled chain-link fence, still clinging to the earth above Bryden Canyon Road. \"I seen that guy hanging there and he was trying to beat the window out or the door open and I was like 'Oh man,' 'cause only like five links were hanging there,\" Warnock told KXLY, a CNN affiliate. \"I was like, I gotta do something and no one was doing anything.\" What Warnock did next, captured in a dramatic photo by Lewiston Tribune photographer Barry Kough, made headlines around the world. Warnock dashed from his car and scrambled up a hill to the Yukon and its driver, 23-year-old Matthew Sitko, who appeared to be in shock. \"I got up there and I was like, 'Are you alright man?' He shook his head, yeah. I grabbed my Snap-on multi-tool and it had jagged edges on each end. I hit the window three times and it didn't break. Every time I hit it, the thing rocked like it was going to fall off,\" Warnock told KXLY. Sitko was finally able to get the passenger-side window down. Warnock then reached in and pulled Sitko out to safety -- a moment recorded by Kough's camera. Then Warnock disappeared. \"I left and got out of there before anyone knew who I was,\" he said. He remained an unknown good Samaritan, his identity a mystery, until Kough's picture of the daring rescue appeared in the Lewiston paper and spread across the Internet. \"I don't feel like I deserve any credit or anything,\" Warnock said. \"I just did what anyone would do, went right back to work.\" Thanks to Warnock, Sitko went to the hospital with just minor injuries. \"The Lewiston Police Department would like to thank Jason Warnock for his quick and decisive actions in helping Mr. Sitko and preventing the situation from worsening,\" said Roger Lanier, the interim police chief. Warnock told KXLY he didn't want or expect all the attention and would rather be fishing in the mountains than reading about himself.\n",
      "----------------------------------------------------------------------------------------------------\n",
      "BASELINE HUMAN SUMMARY:\n",
      "Jason Warnock rescued a man whose SUV was dangling off the edge of a cliff . Warnock: \"I don't feel like I deserve any credit ... I just did what anyone would do\"\n",
      "----------------------------------------------------------------------------------------------------\n",
      "Finetuned BART model:\n",
      "Jason Warnock was driving through a canyon in Lewiston, Idaho, on Wednesday when he saw the tree. The only thing holding the GMC Yukon and its terrified driver from a 30-foot drop was a crumpled chain-link fence. \"I grabbed my Snap-on multi-tool and it had jagged edges on each end,\" he says.\n",
      "\n",
      "----------------------------------------------------------------------------------------------------\n",
      "Example  8\n",
      "----------------------------------------------------------------------------------------------------\n",
      "INPUT PROMPT:\n",
      "(CNN)The mass killings of Armenians in the Ottoman Empire, which began 100 years ago Friday, is said by some scholars and others to have been the first genocide of the 20th century, even though the word \"genocide\" did not exist at the time. The issue of whether to call the killings a genocide is emotional, both for Armenians, who are descended from those killed, and for Turks, the heirs to the Ottomans. For both groups, the question touches as much on national identity as on historical facts. Some Armenians feel their nationhood cannot be fully recognized unless the truth of what happened to their forebears is acknowledged. Some Turks still view the Armenians as having been a threat to the Ottoman Empire in a time of war, and say many people of various ethnicities -- including Turks -- were killed in the chaos of war. In addition, some Turkish leaders fear that acknowledgment of a genocide could lead to demands for huge reparations. So, what do we know about happened in those fateful days? Here are some answers: . The Ottoman Turks, having recently entered World War I on the side of Germany and the Austro-Hungarian Empire, were worried that Armenians living in the Ottoman Empire would offer wartime assistance to Russia. Russia had long coveted control of Constantinople (now Istanbul), which controlled access to the Black Sea -- and therefore access to Russia's only year-round seaports. Many historians agree that the number was about 2 million. However, victims of the mass killings also included some of the 1.8 million Armenians living in the Caucasus under Russian rule, some of whom were massacred by Ottoman forces in 1918 as they marched through East Armenia and Azerbaijan. By 1914, Ottoman authorities were already portraying Armenians as a threat to the empire's security. Then, on the night of April 23-24, 1915, the authorities in Constantinople, the empire's capital, rounded up about 250 Armenian intellectuals and community leaders. Many of them ended up deported or assassinated. April 24, known as Red Sunday, is commemorated as Genocide Remembrance Day by Armenians around the world. Friday is the 100th anniversary of that day. This is a major point of contention. Estimates range from 300,000 to 2 million deaths between 1914 and 1923, with not all of the victims in the Ottoman Empire. But most estimates -- including one of 800,000 between 1915 and 1918, made by Ottoman authorities themselves -- fall between 600,000 and 1.5 million. Whether due to killings or forced deportation, the number of Armenians living in Turkey fell from 2 million in 1914 to under 400,000 by 1922. Almost any way one can imagine. While the  death toll is in dispute, photographs from the era document some mass killings. Some show Ottoman soldiers posing with severed heads, others with them standing amid skulls in the dirt. The victims are reported to have died in mass burnings and by drowning, torture, gas, poison, disease and starvation. Children were reported to have been loaded into boats, taken out to sea and thrown overboard. Rape, too, was frequently reported. In addition, according to the website armenian-genocide.org, \"The great bulk of the Armenian population was forcibly removed from Armenia and Anatolia to Syria, where the vast majority was sent into the desert to die of thirst and hunger.\" No. Genocide was not even a word at the time, much less a legally defined crime. The word \"genocide\" was invented in 1944 by a Polish lawyer named Raphael Lemkin to describe the Nazis' systematic attempt to eradicate Jews from Europe. He formed the word by combining the Greek word for race with the Latin word for killing. Genocide became a crime in 1948, when the United Nations approved the Convention on the Prevention and Punishment of the Crime of Genocide. The definition included acts meant \"to destroy, in whole or in part, a national, ethnical, racial or religious group.\" Armenia, the Vatican, the European Parliament, France, Russia and Canada. Germany is expected to join that group on Friday, the 100th anniversary of the start of the killings. Turkey, the United States, the European Commission, the United Kingdom and the United Nations. A U.N. subcommittee called the killings genocide in 1985, but current U.N. Secretary-General Ban Ki-moon declines to use the word. Also, a year ago, on the eve of the 99th anniversary of Red Sunday, then-Turkish Prime Minister (now-President) Recep Tayyip Erdogan offered condolences for the mass killings, which he said had \"inhumane consequences.\" While Turkey vehemently continues to reject the word \"genocide,\" his remarks went further than those of any previous Turkish leader in acknowledging the suffering of Armenians.\n",
      "----------------------------------------------------------------------------------------------------\n",
      "BASELINE HUMAN SUMMARY:\n",
      "The 100th anniversary of the start of the mass killings will be commemorated Friday . Turkey and others reject the use of the word \"genocide\" Most estimates of the deaths fall between 600,000 and 1.5 million .\n",
      "----------------------------------------------------------------------------------------------------\n",
      "Finetuned BART model:\n",
      "The mass killings of Armenians in the Ottoman Empire began 100 years ago Friday. The issue of whether to call the killings a genocide is emotional, both for Armenians and Turks. For both groups, the question touches as much on national identity as on historical facts. April 24, known as Red Sunday, is commemorated as Genocide Remembrance Day by Armenians.\n",
      "\n"
     ]
    }
   ],
   "source": [
    "example_indices = [20, 50, 75, 100, 200, 250, 300, 400]\n",
    "\n",
    "for i, index in enumerate(example_indices):\n",
    "    dialogue = dataset['test'][index]['article']\n",
    "    summary = dataset['test'][index]['highlights']\n",
    "\n",
    "    prefix = 'Summarize in one or two sentences the following article: '\n",
    "    \n",
    "    inputs = tokenizer(prefix + dialogue, max_length=512, truncation=True, return_tensors='pt')\n",
    "    output = tokenizer.decode(\n",
    "        finetuned_model.generate(\n",
    "            inputs[\"input_ids\"], \n",
    "            max_new_tokens=250,\n",
    "        )[0], \n",
    "        skip_special_tokens=True\n",
    "    )\n",
    "    \n",
    "    print(dash_line)\n",
    "    print('Example ', i + 1)\n",
    "    print(dash_line)\n",
    "    print(f'INPUT PROMPT:\\n{dialogue}')\n",
    "    print(dash_line)\n",
    "    print(f'BASELINE HUMAN SUMMARY:\\n{summary}')\n",
    "    print(dash_line)\n",
    "    print(f'Finetuned BART model:\\n{output}\\n')"
   ]
  },
  {
   "cell_type": "markdown",
   "id": "b7effa15-b14b-40a1-a50b-2e151feec2aa",
   "metadata": {},
   "source": [
    "### Multi-shot inference\n",
    "\n",
    "Finetuning the model has shown little improvement in shortening the length of the summary to a highlight. I think showing the model some examples during the prompt might aid the model.\n"
   ]
  },
  {
   "cell_type": "code",
   "execution_count": 144,
   "id": "def122f2-37a6-4d70-a68e-31e7eb65d1db",
   "metadata": {},
   "outputs": [
    {
     "name": "stderr",
     "output_type": "stream",
     "text": [
      "C:\\Users\\tom_r\\anaconda3\\envs\\Generative_AI\\Lib\\site-packages\\transformers\\tokenization_utils_base.py:1601: FutureWarning: `clean_up_tokenization_spaces` was not set. It will be set to `True` by default. This behavior will be depracted in transformers v4.45, and will be then set to `False` by default. For more details check this issue: https://github.com/huggingface/transformers/issues/31884\n",
      "  warnings.warn(\n"
     ]
    }
   ],
   "source": [
    "# Reload base pretrained model and tokenizer\n",
    "model = BartForConditionalGeneration.from_pretrained(\"facebook/bart-large-cnn\")\n",
    "tokenizer = AutoTokenizer.from_pretrained(\"facebook/bart-large-cnn\")"
   ]
  },
  {
   "cell_type": "code",
   "execution_count": 145,
   "id": "61ccde19-b7bb-49eb-a9f3-8c739f325f1b",
   "metadata": {},
   "outputs": [
    {
     "data": {
      "text/plain": [
       "DatasetDict({\n",
       "    train: Dataset({\n",
       "        features: ['article', 'highlights', 'id', 'input_ids', 'attention_mask', 'labels'],\n",
       "        num_rows: 11485\n",
       "    })\n",
       "    validation: Dataset({\n",
       "        features: ['article', 'highlights', 'id', 'input_ids', 'attention_mask', 'labels'],\n",
       "        num_rows: 535\n",
       "    })\n",
       "    test: Dataset({\n",
       "        features: ['article', 'highlights', 'id', 'input_ids', 'attention_mask', 'labels'],\n",
       "        num_rows: 460\n",
       "    })\n",
       "})"
      ]
     },
     "execution_count": 145,
     "metadata": {},
     "output_type": "execute_result"
    }
   ],
   "source": [
    "tokenized_dataset_reduced"
   ]
  },
  {
   "cell_type": "code",
   "execution_count": 195,
   "id": "3f1aeb9c-132f-4a29-9621-d07b77fcb81a",
   "metadata": {},
   "outputs": [],
   "source": [
    "def make_prompt(example_indices_full, index_to_summarize):\n",
    "\n",
    "    # Adding the article that the LLM needs to highlight from the previous model answers shown    \n",
    "    article = dataset['test'][index_to_summarize]['article']\n",
    "    \n",
    "    prompt = f\"\"\"\n",
    "Task: Summarise the following new article in one or two sentences\n",
    "Article:\n",
    "\n",
    "{article}\n",
    "\"\"\"\n",
    "    \n",
    "    # Examples to show the LLM in the prompt    \n",
    "    prompt += 'Below are examples of article highlights'\n",
    "    for i, index in enumerate(example_indices_full):\n",
    "        article = dataset['test'][index]['article']\n",
    "        highlight = dataset['test'][index]['highlights']\n",
    "        \n",
    "        prompt += f\"\"\"\n",
    "\n",
    "        \n",
    "Example: {i + 1}\n",
    "Article:\n",
    "    \n",
    "{article}\n",
    "    \n",
    "Summarise the article in one or two sentences? \n",
    "{highlight}\n",
    "\n",
    "\n",
    "\"\"\"\n",
    "\n",
    "        \n",
    "    return prompt"
   ]
  },
  {
   "cell_type": "markdown",
   "id": "4a3f5e26-3df9-4fe9-b819-211a0ae6a521",
   "metadata": {},
   "source": [
    "Would the LLM prefer the US spelling of summarise? "
   ]
  },
  {
   "cell_type": "code",
   "execution_count": 324,
   "id": "4dba07b4-0a6f-4027-8adf-d74507ff5d88",
   "metadata": {
    "scrolled": true
   },
   "outputs": [
    {
     "name": "stdout",
     "output_type": "stream",
     "text": [
      "\n",
      "Task: Summarise the following new article in one or two sentences\n",
      "Article:\n",
      "\n",
      "(CNN)Former New England Patriots star Aaron Hernandez will need to keep his lawyers even after being convicted of murder and other charges in the death of Odin Lloyd. The 25-year-old potentially faces three more trials -- one criminal and two civil actions. Next up is another murder trial in which he is accused of killing two men and wounding another person near a Boston nightclub in July 2012. Prosecutors have said Hernandez fatally shot Daniel de Abreu and Safiro Furtado when he fired into their 2003 BMW.  Another passenger was wounded and two others were uninjured. Hernandez pleaded not guilty at his arraignment. The trial was originally slated for May 28, but Jake Wark, spokesman for the Suffolk County District Attorney's Office, said Wednesday the trial had been postponed and no new date had been set. \"We expect to select a new court date in the coming days and then set the amended trial track. The Suffolk indictments allege two counts of first-degree murder for the July 16, 2012, shooting deaths of Daniel de Abreu and Safiro Furtado in Boston's South End; three counts of armed assault with intent to murder and one count of assault and battery by means of a dangerous weapon for shots fired at three surviving victims; and one count of unlawful possession of a firearm,\" he said. The families of de Abreu and Furtado filed civil suits against Hernandez, and a judge froze his $5 million in assets, pending the outcome of the double-murder trial. The freeze includes the disputed $3.3 million signing bonus payment Hernandez claims he is owed by the New England Patriots. Hernandez is also being sued by a man who claims Hernandez shot him while they were in a limousine in Miami in February 2013. Alexander Bradley claims the then-New England Patriot tight end wounded him after the two got into a fight at a Miami strip club. In a lawsuit filed four months later, Bradley said Hernandez fired at him during a limo ride after leaving the club and that Hernandez intentionally \"possessed a gun which he was not legally licensed to have.\" Hernandez's lawyers have argued he couldn't defend himself properly while on trial in Massachusetts. There was no criminal charge in the case. And then there is the grievance over unpaid bonus money filed by the NFL players union on behalf of Hernandez, who signed a contract in 2012 that potentially was worth more than $40 million. If the grievance is heard by the league, Hernandez will be represented by the the National Football League Players' Association. Who was Odin Lloyd? CNN's Lawrence Crook contributed to this report.\n",
      "Below are examples of article highlights\n",
      "\n",
      "        \n",
      "Example: 1\n",
      "Article:\n",
      "    \n",
      "(CNN)HBO just whetted our appetite for a new season of \"True Detective.\" The network released a teaser video for  season 2 of the critically acclaimed show, and it looks intense. Colin Farrell, Vince Vaughn, Rachel McAdams and Taylor Kitsch star in the new season, which premieres June 21. Here's the plot synopsis, according to Den of Geek: . \"A bizarre murder brings together three law-enforcement officers and a career criminal, each of whom must navigate a web of conspiracy and betrayal in the scorched landscapes of California. Colin Farrell is Ray Velcoro, a compromised detective in the all-industrial City of Vinci, LA County. Vince Vaughn plays Frank Semyon, a criminal and entrepreneur in danger of losing his life's work, while his wife and closest ally (Kelly Reilly), struggles with his choices and her own. Rachel McAdams is Ani Bezzerides, a Ventura County Sheriff's detective often at odds with the system she serves, while Taylor Kitsch plays Paul Woodrugh, a war veteran and motorcycle cop for the California Highway Patrol who discovers a crime scene which triggers an investigation involving three law enforcement groups, multiple criminal collusions, and billions of dollars.\" Yes, please. The first season starred Matthew McConaughey and Woody Harrelson as a pair of Louisiana State Police detectives investigating the death of a young woman. The crime drama proved to be a runaway hit, and the season 1 finale crashed the HBO Go site in March 2014.\n",
      "    \n",
      "Summarise the article in one or two sentences? \n",
      "HBO released a teaser video for the new season, starting June 21 . The series stars Colin Farrell and Vince Vaughn .\n",
      "\n",
      "\n",
      "\n"
     ]
    }
   ],
   "source": [
    "example_indices_full = [125]\n",
    "index_to_summarize = 200\n",
    "\n",
    "one_shot_prompt = make_prompt(example_indices_full, index_to_summarize)\n",
    "\n",
    "print(one_shot_prompt)"
   ]
  },
  {
   "cell_type": "code",
   "execution_count": 228,
   "id": "11304633-9e57-483d-b93b-da92d736f08f",
   "metadata": {},
   "outputs": [
    {
     "name": "stdout",
     "output_type": "stream",
     "text": [
      "----------------------------------------------------------------------------------------------------\n",
      "Baseline human highlights:\n",
      "Aaron Hernandez has been found guilty in Odin Lloyd's death, but his troubles are not over . He also faces murder charges in Suffolk County, Massachusetts, but trial was postponed . In addition, Hernandez will face two civil lawsuits; one is in relation to Suffolk County case .\n",
      "\n",
      "----------------------------------------------------------------------------------------------------\n",
      "Model generated highlights - ONE SHOT:\n",
      "Former New England Patriots star Aaron Hernandez will need to keep his lawyers even after being convicted of murder and other charges in the death of Odin Lloyd. The 25-year-old potentially faces three more trials -- one criminal and two civil actions. The families of de Abreu and Furtado filed civil suits against Hernandez.\n"
     ]
    }
   ],
   "source": [
    "# There is just 1 example shown in the prompt (one shot)\n",
    "\n",
    "highlight = dataset['test'][index_to_summarize]['highlights']\n",
    "\n",
    "inputs = tokenizer(one_shot_prompt, return_tensors='pt', max_length=1024, truncation=True)\n",
    "output = tokenizer.decode(\n",
    "    model.generate(\n",
    "        inputs[\"input_ids\"],\n",
    "        max_new_tokens=200,\n",
    "        temperature=1,  # Reduce randomness\n",
    "        num_beams=5,  # Use beam search to improve output quality\n",
    "    )[0], \n",
    "    skip_special_tokens=True\n",
    ")\n",
    "\n",
    "print(dash_line)\n",
    "print(f'Baseline human highlights:\\n{highlight}\\n')\n",
    "print(dash_line)\n",
    "print(f'Model generated highlights - ONE SHOT:\\n{output}')"
   ]
  },
  {
   "cell_type": "markdown",
   "id": "30e01ca8-f03d-4433-885e-cc37c770919c",
   "metadata": {},
   "source": [
    "### Test out few shot inference"
   ]
  },
  {
   "cell_type": "code",
   "execution_count": 230,
   "id": "7f82ff17-2b0a-491e-a8d8-8a9f9c0a2736",
   "metadata": {
    "scrolled": true
   },
   "outputs": [
    {
     "name": "stdout",
     "output_type": "stream",
     "text": [
      "\n",
      "Task: Summarise the following new article in one or two sentences\n",
      "Article:\n",
      "\n",
      "(CNN)A measles outbreak that affected more than 130 Californians since December is over, the California Department of Public Health declared Friday. It has been 42 days since the last known case of B3 strain of measles, the equivalent of two successive incubation periods, said Dr. Karen Smith, director of the health department. The department said in its latest update that 131 people came down with the B3 strain, and five who had a different genotype than the outbreak strain. Of the 131 cases, the state was able to obtain the vaccination status for 81 patients. Of the 81, 70% were unvaccinated. \"Prompt investigation of cases, interviewing hundreds of contacts of infected people, vaccinating hundreds of at risk people, and increasing awareness among health care providers about measles, helped to control this outbreak,\" Smith said. The outbreak began with dozens of visitors to two Disney theme parks in the state. The health department said 42 of the cases occurred from December 17-20. Two patients with rashes have been identified in April, but they have a different measles genotype. The Centers for Disease Control and Prevention said on its website that 19 different strains have been discovered since 1990. Measles is a highly contagious respiratory disease. It causes fever, red and sore eyes, runny nose, cough and a rash. It can cause deadly health complications, including pneumonia and encephalitis. It  is spread by contact with an infected person through coughing or sneezing. It can remain in the air and on surfaces for up to two hours. CNN's Debra Goldschmidt contributed to this report.\n",
      "Below are examples of article highlights\n",
      "\n",
      "        \n",
      "Example: 1\n",
      "Article:\n",
      "    \n",
      "(CNN)A high temperature of 63.5 degrees Fahrenheit might sound like a pleasant day in early spring -- unless you're in Antarctica. The chilly continent recorded the temperature (15.5 degrees Celsius) on March 24, possibly the highest ever recorded on Antarctica, according to the Weather Underground. The temperature was recorded at Argentina's Esperanza Base on the northern tip of the Antarctica Peninsula, according to CNN affiliate WTNH. (Note to map lovers: The Argentine base is not geographically part of the South American continent.) The World Meteorological Organization, a specialized United Nations agency, is in the process of setting up an international ad-hoc committee of about 10 blue-ribbon climatologists and meteorologists to begin collecting relevant evidence, said Randy Cerveny, the agency's lead rapporteur of weather and climate extremes and Arizona State University professor of geographical sciences. The committee will examine the equipment used to measure the temperature, whether it was in good working order, whether the correct monitoring procedures were followed, whether the equipment was placed in the correct location and whether the measurement is matched by corresponding records from surrounding stations, Cerveny said. The committee will discuss the issues and make a recommendation to Cerveny, who will make an official finding, probably by late summer or early fall. Researchers who study climate change carefully watch weather changes in the Antarctic region and elsewhere for evidence that the Earth is getting warmer.\n",
      "    \n",
      "Summarise the article in one or two sentences? \n",
      "High temperatures are recorded on the northern tip of the Antarctica Peninsula . The World Meteorological Organization will make the final determination .\n",
      "\n",
      "\n",
      "\n",
      "\n",
      "        \n",
      "Example: 2\n",
      "Article:\n",
      "    \n",
      "Cedar Falls, Iowa (CNN)As aides politely tried to rush Ted Cruz from an event in Cedar Falls to one in Cedar Rapids, Iowa, on Thursday, the presidential candidate continued shaking hands with anyone who wanted to meet him. Finally, after the selfies and conversations started to die down, his aides managed to move him closer to the door when a tall, burly man stopped him. \"Senator,\" he said, \"can I pray with you real quick?\" \"Yeah,\" Cruz said, as he clasped the man's upper arm and the two bowed their heads. It was one of the many moments when Cruz connected with voters on a religious level last week, as the senator from Texas hit the trail in Iowa for the first time as a presidential candidate. Being the only official contender in the race, Cruz drew large crowds during his two-day swing across the state. He's counting on Iowa, known for its vocal and active evangelical base, to propel him forward in what's expected to be a tough competition among a crowded field of GOP candidates. Cruz, himself, displays a pastoral swagger when he is speaking on stage and working a room. The senator regularly avoids using a podium, instead favoring pacing the stage with a wireless microphone, a scene reminiscent of a Sunday morning sermon. When he meets with people after events, he embraces each one's hand with both of his, softens his usually theatric tone and looks people square in the eye -- a familiar interaction between churchgoing Christians and their pastors. The past two winners of Iowa's caucuses rose to victory with support from the Christian right, and Cruz, who announced his bid last month at the well-known Baptist school Liberty University, is aiming to energize that same base and claim the coveted state as his prize. Evangelicals make up a large segment of Iowa's Republican voter bloc. According to a Des Moines Register/Bloomberg Politics poll from January, 44% of likely 2016 Republican caucus-goers said they were born-again or evangelical Christians. Cruz has built a brand as a stalwart conservative willing to buck GOP leadership on fiscal issues, but he showed in Iowa last week that he's also eager to champion social issues at a time when many Republicans are anxious to avoid them. He was one of the loudest defenders of the religious freedom law in Indiana, which came under fire last week for what critics called paving a path to discrimination against gays and lesbians. He described the outrage over the laws as \"shameful\" and an \"assault\" on First Amendment rights. \"There are a lot of people here in Iowa and across the country whose hearts are breaking, watching what has happened in the last two weeks,\" Cruz said Friday night at an event in Des Moines. \"We have seen a grossly unfair vilification of religious liberty.\" RELATED: Republican 2016 hopefuls back Indiana's 'religious freedom' law . He's more than comfortable talking about his own faith and telling the story of how his father became a Christian and a pastor. Rafael Cruz, who's become a celebrity among Christian conservatives, will frequently visit Iowa over the next year, Cruz told voters. And Cruz's Iowa director, Bryan English, is a former pastor. Cruz's first television ads are appearing this weekend during programs on Fox News and NBC that are pegged to Easter Sunday. In the ad, Cruz talks about the impact of the \"transformative love of Jesus Christ\" on his life. While neither Mike Huckabee, who won Iowa in 2008, nor Rick Santorum, who won in 2012, went on to win the nomination, their successes helped launch them into high-profile battles with the then-front-runners. And with both of them likely running again in 2016, the competition will be stiff. That's why, for Cruz, courting evangelicals is only a component of a three-pronged strategy to win the nomination that also includes dominating the tea party faction and competing for the libertarian base. His stump speech hits on elements that appeal to each faction. He received standing ovations last week for calling to abolish the IRS, and, in a knock against the National Security Agency, he frequently tells audiences to leave their cell phones on so President Obama \"can hear every word I have to say.\" Cruz argued Thursday that the Republican Party needs to bridge the gap between what he described as the Ron Paul-Rand Paul faction of the party -- young libertarian-minded voters -- and the Santorum base -- evangelicals. The two blocs, he said, are \"not necessarily the best of chums.\" \"If we're going to win, we've got to bring that coalition together,\" he said in Cedar Falls. \"And I think we can do that.\" Cruz frequently says he wants to see a return of the evangelical vote to 2004 levels, when more than six in 10 evangelicals voted in the presidential election, a higher than normal turnout for the demographic. That number has waned slightly since 2004 -- but it's not too far off from the 56% of the overall population that voted in 2012. Still, his campaign believes that if it can tap into the group of evangelicals who've been staying home and get the demographic as a whole to overperform, then that could mean the difference of millions more at the polls. \"If you look at available places for the party to expand the vote, it doesn't exist in the middle, it exists in the evangelical vote,\" said Rick Tyler, a top Cruz adviser. \"It isn't a pond, it's an unfished ocean of available voters who are conservative.\" Russell Moore, president of the Ethics & Religious Liberty Commission of the Southern Baptist Convention, said he expects to see record turnout among evangelicals in 2016 no matter who the nominee is or what that person says. Moore points to hot-button topics like religious freedom issues in the U.S., as well as increased attention to the killing of minority Christians in the Middle East and rising anti-Semitism. \"I don't think a candidate is going to be able to get very far simply by using evangelical lingo or by pointing to his or her personal faith,\" Moore said. \"I think a candidate is going to have to explain how he or she would protect religious liberty and would appoint justices and judges who will maintain the common good.\" Later in April, voters in Iowa will see the bulk of the GOP field tackle these issues when they take the stage at an event hosted by the Iowa Faith and Freedom Coalition. While the past two winners of the Iowa caucuses -- Santorum and Huckabee -- are likely running for president again, Steve Scheffler, president of the group, argued that the field is wide open in terms of who's going to win favor among evangelicals. Jeb Bush, while not popular among conservative activists, was known for his staunch anti-abortion record as Florida governor and touts his Catholic faith as a big force behind his policy views. Scott Walker is the son of a pastor. Ben Carson, the former neurosurgeon, rose to fame in conservative circles after criticizing the Obama administration at a national prayer breakfast. And other likely candidates -- from Marco Rubio to Rick Perry to Rand Paul -- have made serious efforts to court the religious right. \"It's up for grabs. It's a clean slate regardless of if you've run before,\" Scheffler said. \"Naturally those two (Huckabee and Santorum) have the name recognition and database of people who supported them in the past, but by and large voters are going to say, 'Let me take a good look at all of these candidates.'\"\n",
      "    \n",
      "Summarise the article in one or two sentences? \n",
      "Ted Cruz has built a brand as a stalwart conservative on fiscal issues . But he's also eager to champion social issues at a time when many Republicans are eager to avoid them . Cruz says the GOP needs to unite young libertarian-minded voters and evangelicals .\n",
      "\n",
      "\n",
      "\n",
      "\n",
      "        \n",
      "Example: 3\n",
      "Article:\n",
      "    \n",
      "(CNN)A 32-year-old Massachusetts man is facing murder charges, authorities said Wednesday, four days after another man's remains were found in a duffel bag. The Middlesex District Attorney's Office said that Carlos Colina, 32, will be arraigned the morning of April 14 for murder in connection with the remains discovered Saturday in Cambridge. Earlier this week, Colina was arraigned on charges of assault and battery causing serious bodily injury and improper disposal of a body. A Middlesex County judge then revoked bail for Colina in another case he's involved in, for alleged assault and battery. The victim in that case is different from the one whose remains were found in recent days. Police were notified Saturday morning about a suspicious item along a walkway in Cambridge. Officers arrived at the scene, opened a duffel bag and found human remains. After that discovery, police say, a surveillance video led them to an apartment building, where more body parts were discovered in a common area. That location is near the Cambridge Police Department headquarters. The remains at both locations belonged to the same victim, identified Monday as Jonathan Camilien, 26. Camilien and Colina knew each other, according to authorities. \"This was a gruesome discovery,\" District Attorney Marian Ryan said. CNN's Kevin Conlon contributed to this report.\n",
      "    \n",
      "Summarise the article in one or two sentences? \n",
      "Prosecutor: Carlos Colina, 32, will be arraigned on the murder charge next week . He's already been arraigned for alleged assault and battery, improper disposal of a body . Body parts were found in a duffel bag and a common area of an apartment building .\n",
      "\n",
      "\n",
      "\n"
     ]
    }
   ],
   "source": [
    "example_indices_full = [40, 80, 120]\n",
    "example_index_to_summarize = 250\n",
    "\n",
    "few_shot_prompt = make_prompt(example_indices_full, example_index_to_summarize)\n",
    "\n",
    "print(few_shot_prompt)"
   ]
  },
  {
   "cell_type": "code",
   "execution_count": 233,
   "id": "97affc0d-ba34-4787-a55f-0e5683ba6a7d",
   "metadata": {},
   "outputs": [
    {
     "name": "stdout",
     "output_type": "stream",
     "text": [
      "----------------------------------------------------------------------------------------------------\n",
      "BASELINE HUMAN SUMMARY:\n",
      "Officials say 131 Californians were affected by one strain, five by other strains . About 70% of the people who could show health records were unvaccinated . Outbreak began in December among visitors to two Disney theme parks .\n",
      "\n",
      "----------------------------------------------------------------------------------------------------\n",
      "MODEL GENERATION - FEW SHOT:\n",
      "A measles outbreak that affected more than 130 Californians since December is over. Of the 131 cases, the state was able to obtain the vaccination status for 81 patients. A high temperature of 63.5 degrees Fahrenheit was recorded on the northern tip of the Antarctica Peninsula. The World Meteorological Organization will make the final determination.\n"
     ]
    }
   ],
   "source": [
    "summary = dataset['test'][example_index_to_summarize]['highlights']\n",
    "\n",
    "inputs = tokenizer(few_shot_prompt, return_tensors='pt', max_length=1024, truncation=True)\n",
    "output = tokenizer.decode(\n",
    "    model.generate(\n",
    "        inputs[\"input_ids\"],\n",
    "        max_new_tokens=200,\n",
    "        temperature=0.5, \n",
    "        do_sample=True,\n",
    "        num_beams=5, \n",
    "    )[0], \n",
    "    skip_special_tokens=True\n",
    ")\n",
    "print(dash_line)\n",
    "print(f'BASELINE HUMAN SUMMARY:\\n{summary}\\n')\n",
    "print(dash_line)\n",
    "print(f'MODEL GENERATION - FEW SHOT:\\n{output}')"
   ]
  },
  {
   "cell_type": "markdown",
   "id": "8b7567c3-9e65-46cc-aac8-47dd0477d5bc",
   "metadata": {},
   "source": [
    "The model has confused the seperate articles into a single set of highlights. "
   ]
  },
  {
   "cell_type": "code",
   "execution_count": 236,
   "id": "9bc9fc0c-59a8-4788-b4f1-3ecc7dcdacc8",
   "metadata": {},
   "outputs": [
    {
     "data": {
      "text/plain": [
       "{'input_ids': tensor([[    0, 50118, 47744,  ...,  2950, 10405,     2]]), 'attention_mask': tensor([[1, 1, 1,  ..., 1, 1, 1]])}"
      ]
     },
     "execution_count": 236,
     "metadata": {},
     "output_type": "execute_result"
    }
   ],
   "source": [
    "inputs"
   ]
  },
  {
   "cell_type": "code",
   "execution_count": 238,
   "id": "8674677c-f7a4-4f9c-b711-6f5f8bfd7fc1",
   "metadata": {
    "scrolled": true
   },
   "outputs": [
    {
     "data": {
      "text/plain": [
       "'<s>\\nTask: Summarise the following new article in one or two sentences\\nArticle:\\n\\n(CNN)A measles outbreak that affected more than 130 Californians since December is over, the California Department of Public Health declared Friday. It has been 42 days since the last known case of B3 strain of measles, the equivalent of two successive incubation periods, said Dr. Karen Smith, director of the health department. The department said in its latest update that 131 people came down with the B3 strain, and five who had a different genotype than the outbreak strain. Of the 131 cases, the state was able to obtain the vaccination status for 81 patients. Of the 81, 70% were unvaccinated. \"Prompt investigation of cases, interviewing hundreds of contacts of infected people, vaccinating hundreds of at risk people, and increasing awareness among health care providers about measles, helped to control this outbreak,\" Smith said. The outbreak began with dozens of visitors to two Disney theme parks in the state. The health department said 42 of the cases occurred from December 17-20. Two patients with rashes have been identified in April, but they have a different measles genotype. The Centers for Disease Control and Prevention said on its website that 19 different strains have been discovered since 1990. Measles is a highly contagious respiratory disease. It causes fever, red and sore eyes, runny nose, cough and a rash. It can cause deadly health complications, including pneumonia and encephalitis. It  is spread by contact with an infected person through coughing or sneezing. It can remain in the air and on surfaces for up to two hours. CNN\\'s Debra Goldschmidt contributed to this report.\\nBelow are examples of article highlights\\n\\n        \\nExample: 1\\nArticle:\\n    \\n(CNN)A high temperature of 63.5 degrees Fahrenheit might sound like a pleasant day in early spring -- unless you\\'re in Antarctica. The chilly continent recorded the temperature (15.5 degrees Celsius) on March 24, possibly the highest ever recorded on Antarctica, according to the Weather Underground. The temperature was recorded at Argentina\\'s Esperanza Base on the northern tip of the Antarctica Peninsula, according to CNN affiliate WTNH. (Note to map lovers: The Argentine base is not geographically part of the South American continent.) The World Meteorological Organization, a specialized United Nations agency, is in the process of setting up an international ad-hoc committee of about 10 blue-ribbon climatologists and meteorologists to begin collecting relevant evidence, said Randy Cerveny, the agency\\'s lead rapporteur of weather and climate extremes and Arizona State University professor of geographical sciences. The committee will examine the equipment used to measure the temperature, whether it was in good working order, whether the correct monitoring procedures were followed, whether the equipment was placed in the correct location and whether the measurement is matched by corresponding records from surrounding stations, Cerveny said. The committee will discuss the issues and make a recommendation to Cerveny, who will make an official finding, probably by late summer or early fall. Researchers who study climate change carefully watch weather changes in the Antarctic region and elsewhere for evidence that the Earth is getting warmer.\\n    \\nSummarise the article in one or two sentences? \\nHigh temperatures are recorded on the northern tip of the Antarctica Peninsula. The World Meteorological Organization will make the final determination.\\n\\n\\n\\n\\n        \\nExample: 2\\nArticle:\\n    \\nCedar Falls, Iowa (CNN)As aides politely tried to rush Ted Cruz from an event in Cedar Falls to one in Cedar Rapids, Iowa, on Thursday, the presidential candidate continued shaking hands with anyone who wanted to meet him. Finally, after the selfies and conversations started to die down, his aides managed to move him closer to the door when a tall, burly man stopped him. \"Senator,\" he said, \"can I pray with you real quick?\" \"Yeah,\" Cruz said, as he clasped the man\\'s upper arm and the two bowed their heads. It was one of the many moments when Cruz connected with voters on a religious level last week, as the senator from Texas hit the trail in Iowa for the first time as a presidential candidate. Being the only official contender in the race, Cruz drew large crowds during his two-day swing across the state. He\\'s counting on Iowa, known for its vocal and active evangelical base, to propel him forward in what\\'s expected to be a tough competition among a crowded field of GOP candidates. Cruz, himself, displays a pastoral swagger when he is speaking on stage and working a room. The senator regularly avoids using a podium, instead favoring pacing the stage with a wireless microphone, a scene reminiscent of a Sunday morning sermon. When he meets with people after events, he embraces each one\\'s hand with both of his, softens his usually theatric tone and looks people square in the eye -- a familiar interaction</s>'"
      ]
     },
     "execution_count": 238,
     "metadata": {},
     "output_type": "execute_result"
    }
   ],
   "source": [
    "tokenizer.decode(inputs['input_ids'][0])"
   ]
  },
  {
   "cell_type": "markdown",
   "id": "f6d42cde-a5a8-4372-80dc-129ea70c53b5",
   "metadata": {},
   "source": [
    "\n",
    "**Few shot inference is not practical in this usecase due to the large length of the input articles. When more than one article is included as examples the input gets truncated which can cause confusion in the model output**"
   ]
  },
  {
   "cell_type": "code",
   "execution_count": 331,
   "id": "9f43b2e2-4548-4262-932e-dd20646ce0bf",
   "metadata": {},
   "outputs": [],
   "source": [
    "def evaluate_model_performance(model, mode=\"instruction\", example_index = 125):\n",
    "\n",
    "    # Subset of dataset for evaluation\n",
    "    articles = dataset['test'][0:100]['article']\n",
    "    highlights = dataset['test'][0:100]['highlights']\n",
    "    \n",
    "    model_summaries = []\n",
    "    \n",
    "    for i, article in enumerate(tqdm(articles, desc=\"Evaluating\")):\n",
    "        \n",
    "        # Building the prompt based on the mode\n",
    "        if mode == \"zero shot\":\n",
    "            # just asking for a summary\n",
    "            prompt = f\"Summarize in one or two sentences the following article:\\n\\n{article}\\n\\nSummary:\"\n",
    "        \n",
    "        elif mode == 'one-shot' and example_indices is not None:\n",
    "            # Provide one example and then ask for a summary\n",
    "            example_article = dataset['test'][example_index]['article']\n",
    "            example_highlight = dataset['test'][example_index]['highlights']\n",
    "\n",
    "            prompt = f\"\"\"\n",
    "Task: Summarise the following new article in one or two sentences\n",
    "Article:\n",
    "            \n",
    "{article}\n",
    "\"\"\"\n",
    "    \n",
    "            # Examples to show the LLM in the prompt    \n",
    "            prompt += 'Below are examples of article highlights'\n",
    "            \n",
    "            prompt += f\"\"\"\n",
    "Example Article:\n",
    "{example_article}\n",
    "            \n",
    "Example Summary:\n",
    "{example_highlight}\n",
    "\"\"\"        \n",
    "        elif mode == \"instruction\":\n",
    "            # using a task specific instruction\n",
    "            prompt = f\"\"\"\n",
    "Summarize in one or two sentences the following article:      \n",
    "{article}\n",
    "            \n",
    "Summary:\n",
    "            \"\"\"\n",
    "        \n",
    "        else:\n",
    "            raise ValueError(f\"Unsupported mode: {mode}\")\n",
    "        \n",
    "        input_ids = tokenizer(prompt, return_tensors=\"pt\", truncation=True, max_length=1024).input_ids\n",
    "\n",
    "        model_outputs = model.generate(input_ids=input_ids, max_new_tokens=200)\n",
    "        model_text_output = tokenizer.decode(model_outputs[0], skip_special_tokens=True)\n",
    "        model_summaries.append(model_text_output)\n",
    "    \n",
    "    zipped_summaries = list(zip(highlights, model_summaries))\n",
    "    df = pd.DataFrame(zipped_summaries, columns=['Highlights', 'Model_summaries'])\n",
    "    #print(df.head(5))\n",
    "\n",
    "    # Compute ROUGE scores\n",
    "    model_results = rouge.compute(\n",
    "        predictions=model_summaries,\n",
    "        references=highlights[0:len(model_summaries)],\n",
    "        use_aggregator=True,\n",
    "        use_stemmer=True,\n",
    "    )\n",
    "    \n",
    "    return model_results\n",
    "\n"
   ]
  },
  {
   "cell_type": "code",
   "execution_count": 332,
   "id": "ccc531d1-89cb-40f0-bc2f-1dedd3f795a1",
   "metadata": {},
   "outputs": [
    {
     "name": "stderr",
     "output_type": "stream",
     "text": [
      "Evaluating: 100%|██████████| 100/100 [12:17<00:00,  7.38s/it]\n"
     ]
    },
    {
     "data": {
      "text/plain": [
       "{'rouge1': np.float64(0.35532632398771835),\n",
       " 'rouge2': np.float64(0.15325439791500092),\n",
       " 'rougeL': np.float64(0.25842654908955126),\n",
       " 'rougeLsum': np.float64(0.25813768296344974)}"
      ]
     },
     "execution_count": 332,
     "metadata": {},
     "output_type": "execute_result"
    }
   ],
   "source": [
    "evaluate_model_performance(finetuned_model, mode='instruction')"
   ]
  },
  {
   "cell_type": "code",
   "execution_count": 333,
   "id": "81288f30-af09-4a53-ac56-766fa16c2e30",
   "metadata": {},
   "outputs": [
    {
     "name": "stderr",
     "output_type": "stream",
     "text": [
      "Evaluating: 100%|██████████| 100/100 [11:58<00:00,  7.19s/it]\n"
     ]
    },
    {
     "data": {
      "text/plain": [
       "{'rouge1': np.float64(0.34752412903503105),\n",
       " 'rouge2': np.float64(0.15065534163583266),\n",
       " 'rougeL': np.float64(0.2547654630707121),\n",
       " 'rougeLsum': np.float64(0.2539430180069777)}"
      ]
     },
     "execution_count": 333,
     "metadata": {},
     "output_type": "execute_result"
    }
   ],
   "source": [
    "evaluate_model_performance(finetuned_model, mode='zero shot')"
   ]
  },
  {
   "cell_type": "code",
   "execution_count": 339,
   "id": "3ca372d8-ec34-48bc-b7af-41dcdc5b697d",
   "metadata": {},
   "outputs": [
    {
     "name": "stderr",
     "output_type": "stream",
     "text": [
      "Evaluating: 100%|██████████| 100/100 [14:04<00:00,  8.45s/it]\n"
     ]
    },
    {
     "data": {
      "text/plain": [
       "{'rouge1': np.float64(0.30400882513393646),\n",
       " 'rouge2': np.float64(0.12213599205442993),\n",
       " 'rougeL': np.float64(0.22488490391312452),\n",
       " 'rougeLsum': np.float64(0.22446823181942485)}"
      ]
     },
     "execution_count": 339,
     "metadata": {},
     "output_type": "execute_result"
    }
   ],
   "source": [
    "evaluate_model_performance(finetuned_model, mode='one-shot')"
   ]
  },
  {
   "cell_type": "markdown",
   "id": "1249f766-f96e-4be1-86f5-f3dc2671371c",
   "metadata": {},
   "source": [
    "### Experimenting with increasing num_beams"
   ]
  },
  {
   "cell_type": "code",
   "execution_count": 341,
   "id": "3695b366-63fa-49ac-aa87-dd80e21d4ce4",
   "metadata": {},
   "outputs": [],
   "source": [
    "def evaluate_model_performance(model, mode=\"instruction\", example_index = 125):\n",
    "\n",
    "    # Subset of dataset for evaluation\n",
    "    articles = dataset['test'][0:100]['article']\n",
    "    highlights = dataset['test'][0:100]['highlights']\n",
    "    \n",
    "    model_summaries = []\n",
    "    \n",
    "    for i, article in enumerate(tqdm(articles, desc=\"Evaluating\")):\n",
    "        \n",
    "        # Building the prompt based on the mode\n",
    "        if mode == \"zero shot\":\n",
    "            # just asking for a summary\n",
    "            prompt = f\"Summarize in one or two sentences the following article:\\n\\n{article}\\n\\nSummary:\"\n",
    "        \n",
    "        elif mode == 'one-shot' and example_indices is not None:\n",
    "            # Provide one example and then ask for a summary\n",
    "            example_article = dataset['test'][example_index]['article']\n",
    "            example_highlight = dataset['test'][example_index]['highlights']\n",
    "\n",
    "            prompt = f\"\"\"\n",
    "Task: Summarise the following new article in one or two sentences\n",
    "Article:\n",
    "            \n",
    "{article}\n",
    "\"\"\"\n",
    "    \n",
    "            # Examples to show the LLM in the prompt    \n",
    "            prompt += 'Below are examples of article highlights'\n",
    "            \n",
    "            prompt += f\"\"\"\n",
    "Example Article:\n",
    "{example_article}\n",
    "            \n",
    "Example Summary:\n",
    "{example_highlight}\n",
    "\"\"\"        \n",
    "        elif mode == \"instruction\":\n",
    "            # using a task specific instruction\n",
    "            prompt = f\"\"\"\n",
    "Summarize in one or two sentences the following article:      \n",
    "{article}\n",
    "            \n",
    "Summary:\n",
    "            \"\"\"\n",
    "        \n",
    "        else:\n",
    "            raise ValueError(f\"Unsupported mode: {mode}\")\n",
    "        \n",
    "        input_ids = tokenizer(prompt, return_tensors=\"pt\", truncation=True, max_length=1024).input_ids\n",
    "\n",
    "        model_outputs = model.generate(input_ids=input_ids, max_new_tokens=200, num_beams=5)\n",
    "        model_text_output = tokenizer.decode(model_outputs[0], skip_special_tokens=True)\n",
    "        model_summaries.append(model_text_output)\n",
    "    \n",
    "    zipped_summaries = list(zip(highlights, model_summaries))\n",
    "    df = pd.DataFrame(zipped_summaries, columns=['Highlights', 'Model_summaries'])\n",
    "    #print(df.head(5))\n",
    "\n",
    "    # Compute ROUGE scores\n",
    "    model_results = rouge.compute(\n",
    "        predictions=model_summaries,\n",
    "        references=highlights[0:len(model_summaries)],\n",
    "        use_aggregator=True,\n",
    "        use_stemmer=True,\n",
    "    )\n",
    "    \n",
    "    return model_results\n",
    "\n"
   ]
  },
  {
   "cell_type": "code",
   "execution_count": 336,
   "id": "2fbf843b-b647-4d53-bdf3-e4ac8c8ad4a3",
   "metadata": {},
   "outputs": [
    {
     "name": "stderr",
     "output_type": "stream",
     "text": [
      "Evaluating: 100%|██████████| 100/100 [12:42<00:00,  7.63s/it]\n"
     ]
    },
    {
     "data": {
      "text/plain": [
       "{'rouge1': np.float64(0.3556716864767809),\n",
       " 'rouge2': np.float64(0.15790472378035086),\n",
       " 'rougeL': np.float64(0.2630275608596195),\n",
       " 'rougeLsum': np.float64(0.26219474345675675)}"
      ]
     },
     "execution_count": 336,
     "metadata": {},
     "output_type": "execute_result"
    }
   ],
   "source": [
    "evaluate_model_performance(finetuned_model, mode='instruction')"
   ]
  },
  {
   "cell_type": "code",
   "execution_count": 337,
   "id": "fe50511c-34ee-4904-9ed7-a76e7294e234",
   "metadata": {},
   "outputs": [
    {
     "name": "stderr",
     "output_type": "stream",
     "text": [
      "Evaluating: 100%|██████████| 100/100 [12:28<00:00,  7.49s/it]\n"
     ]
    },
    {
     "data": {
      "text/plain": [
       "{'rouge1': np.float64(0.34629334938693523),\n",
       " 'rouge2': np.float64(0.150107507250075),\n",
       " 'rougeL': np.float64(0.2532882990861981),\n",
       " 'rougeLsum': np.float64(0.252820692762342)}"
      ]
     },
     "execution_count": 337,
     "metadata": {},
     "output_type": "execute_result"
    }
   ],
   "source": [
    "evaluate_model_performance(finetuned_model, mode='zero shot')"
   ]
  },
  {
   "cell_type": "code",
   "execution_count": 342,
   "id": "8b4ee84b-8e1e-411b-b8d9-d88980a83548",
   "metadata": {},
   "outputs": [
    {
     "name": "stderr",
     "output_type": "stream",
     "text": [
      "Evaluating: 100%|██████████| 100/100 [14:17<00:00,  8.58s/it]\n"
     ]
    },
    {
     "data": {
      "text/plain": [
       "{'rouge1': np.float64(0.30400882513393646),\n",
       " 'rouge2': np.float64(0.12213599205442993),\n",
       " 'rougeL': np.float64(0.22488490391312452),\n",
       " 'rougeLsum': np.float64(0.22446823181942485)}"
      ]
     },
     "execution_count": 342,
     "metadata": {},
     "output_type": "execute_result"
    }
   ],
   "source": [
    "evaluate_model_performance(finetuned_model, mode='one-shot')"
   ]
  },
  {
   "cell_type": "markdown",
   "id": "bf2c7724-0458-4663-937b-887caa569a54",
   "metadata": {},
   "source": [
    "### Final thing to try is to finetune on a larger subset of the dataset\n",
    "\n",
    "I will also try and increase input sequence length beyong the 512 that was originally trained for to prevent larger articles from being truncated"
   ]
  },
  {
   "cell_type": "code",
   "execution_count": 344,
   "id": "da07fd0f-a5fe-47d3-9666-9c3af7503ea4",
   "metadata": {},
   "outputs": [
    {
     "name": "stderr",
     "output_type": "stream",
     "text": [
      "Filter: 100%|██████████| 287113/287113 [02:33<00:00, 1867.74 examples/s]\n",
      "Filter: 100%|██████████| 13368/13368 [00:06<00:00, 1919.61 examples/s]\n",
      "Filter: 100%|██████████| 11490/11490 [00:05<00:00, 1958.65 examples/s]\n"
     ]
    },
    {
     "data": {
      "text/plain": [
       "DatasetDict({\n",
       "    train: Dataset({\n",
       "        features: ['article', 'highlights', 'id', 'input_ids', 'attention_mask', 'labels'],\n",
       "        num_rows: 28712\n",
       "    })\n",
       "    validation: Dataset({\n",
       "        features: ['article', 'highlights', 'id', 'input_ids', 'attention_mask', 'labels'],\n",
       "        num_rows: 1337\n",
       "    })\n",
       "    test: Dataset({\n",
       "        features: ['article', 'highlights', 'id', 'input_ids', 'attention_mask', 'labels'],\n",
       "        num_rows: 1149\n",
       "    })\n",
       "})"
      ]
     },
     "execution_count": 344,
     "metadata": {},
     "output_type": "execute_result"
    }
   ],
   "source": [
    "# reduce the size of the dataset by 1/25th\n",
    "tokenized_dataset_reducedBy10 = tokenized_datasets.filter(lambda example, index: index % 10 == 0, with_indices=True)\n",
    "tokenized_dataset_reducedBy10"
   ]
  }
 ],
 "metadata": {
  "kernelspec": {
   "display_name": "Python 3 (ipykernel)",
   "language": "python",
   "name": "python3"
  },
  "language_info": {
   "codemirror_mode": {
    "name": "ipython",
    "version": 3
   },
   "file_extension": ".py",
   "mimetype": "text/x-python",
   "name": "python",
   "nbconvert_exporter": "python",
   "pygments_lexer": "ipython3",
   "version": "3.12.5"
  }
 },
 "nbformat": 4,
 "nbformat_minor": 5
}
