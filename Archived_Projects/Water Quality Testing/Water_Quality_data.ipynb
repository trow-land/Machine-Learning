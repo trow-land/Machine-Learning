{
  "nbformat": 4,
  "nbformat_minor": 0,
  "metadata": {
    "colab": {
      "provenance": []
    },
    "kernelspec": {
      "name": "python3",
      "display_name": "Python 3"
    },
    "language_info": {
      "name": "python"
    }
  },
  "cells": [
    {
      "cell_type": "markdown",
      "source": [
        "This machine learning project was done as a learning exercise. The dataset contains ~200 rows of water quality data downloaded from [kaggle](https://www.kaggle.com/datasets/shreyanshverma27/water-quality-testing).\n",
        "\n",
        "This is a regression problem, so in this notebook I will choose an arbritrary set of features and targets and choose different algorithms to try and find a relationship."
      ],
      "metadata": {
        "id": "SHT1x_w6GktF"
      }
    },
    {
      "cell_type": "code",
      "source": [
        "import pandas as pd\n",
        "import tensorflow as tf\n",
        "from scipy import stats\n",
        "import numpy as np\n",
        "\n",
        "from sklearn.model_selection import train_test_split\n",
        "from sklearn.preprocessing import StandardScaler\n",
        "from tensorflow.keras import regularizers\n"
      ],
      "metadata": {
        "id": "TZj2s8RdHLbZ"
      },
      "execution_count": null,
      "outputs": []
    },
    {
      "cell_type": "code",
      "source": [
        "# Load the dataset and examine the first 5 rows\n",
        "\n",
        "dataset = pd.read_csv(\"/content/Water Quality Testing.csv\")\n",
        "dataset.head()"
      ],
      "metadata": {
        "colab": {
          "base_uri": "https://localhost:8080/",
          "height": 206
        },
        "id": "YmiEmbH2HxhY",
        "outputId": "c6fdf734-18d8-4738-c48d-80c9acc86c2d"
      },
      "execution_count": null,
      "outputs": [
        {
          "output_type": "execute_result",
          "data": {
            "text/plain": [
              "   Sample ID    pH  Temperature (°C)  Turbidity (NTU)  \\\n",
              "0          1  7.25              23.1              4.5   \n",
              "1          2  7.11              22.3              5.1   \n",
              "2          3  7.03              21.5              3.9   \n",
              "3          4  7.38              22.9              3.2   \n",
              "4          5  7.45              20.7              3.8   \n",
              "\n",
              "   Dissolved Oxygen (mg/L)  Conductivity (µS/cm)  \n",
              "0                      7.8                   342  \n",
              "1                      6.2                   335  \n",
              "2                      8.3                   356  \n",
              "3                      9.5                   327  \n",
              "4                      8.1                   352  "
            ],
            "text/html": [
              "\n",
              "  <div id=\"df-1a3f94f6-663d-4e98-9d17-98d34658bd72\">\n",
              "    <div class=\"colab-df-container\">\n",
              "      <div>\n",
              "<style scoped>\n",
              "    .dataframe tbody tr th:only-of-type {\n",
              "        vertical-align: middle;\n",
              "    }\n",
              "\n",
              "    .dataframe tbody tr th {\n",
              "        vertical-align: top;\n",
              "    }\n",
              "\n",
              "    .dataframe thead th {\n",
              "        text-align: right;\n",
              "    }\n",
              "</style>\n",
              "<table border=\"1\" class=\"dataframe\">\n",
              "  <thead>\n",
              "    <tr style=\"text-align: right;\">\n",
              "      <th></th>\n",
              "      <th>Sample ID</th>\n",
              "      <th>pH</th>\n",
              "      <th>Temperature (°C)</th>\n",
              "      <th>Turbidity (NTU)</th>\n",
              "      <th>Dissolved Oxygen (mg/L)</th>\n",
              "      <th>Conductivity (µS/cm)</th>\n",
              "    </tr>\n",
              "  </thead>\n",
              "  <tbody>\n",
              "    <tr>\n",
              "      <th>0</th>\n",
              "      <td>1</td>\n",
              "      <td>7.25</td>\n",
              "      <td>23.1</td>\n",
              "      <td>4.5</td>\n",
              "      <td>7.8</td>\n",
              "      <td>342</td>\n",
              "    </tr>\n",
              "    <tr>\n",
              "      <th>1</th>\n",
              "      <td>2</td>\n",
              "      <td>7.11</td>\n",
              "      <td>22.3</td>\n",
              "      <td>5.1</td>\n",
              "      <td>6.2</td>\n",
              "      <td>335</td>\n",
              "    </tr>\n",
              "    <tr>\n",
              "      <th>2</th>\n",
              "      <td>3</td>\n",
              "      <td>7.03</td>\n",
              "      <td>21.5</td>\n",
              "      <td>3.9</td>\n",
              "      <td>8.3</td>\n",
              "      <td>356</td>\n",
              "    </tr>\n",
              "    <tr>\n",
              "      <th>3</th>\n",
              "      <td>4</td>\n",
              "      <td>7.38</td>\n",
              "      <td>22.9</td>\n",
              "      <td>3.2</td>\n",
              "      <td>9.5</td>\n",
              "      <td>327</td>\n",
              "    </tr>\n",
              "    <tr>\n",
              "      <th>4</th>\n",
              "      <td>5</td>\n",
              "      <td>7.45</td>\n",
              "      <td>20.7</td>\n",
              "      <td>3.8</td>\n",
              "      <td>8.1</td>\n",
              "      <td>352</td>\n",
              "    </tr>\n",
              "  </tbody>\n",
              "</table>\n",
              "</div>\n",
              "      <button class=\"colab-df-convert\" onclick=\"convertToInteractive('df-1a3f94f6-663d-4e98-9d17-98d34658bd72')\"\n",
              "              title=\"Convert this dataframe to an interactive table.\"\n",
              "              style=\"display:none;\">\n",
              "        \n",
              "  <svg xmlns=\"http://www.w3.org/2000/svg\" height=\"24px\"viewBox=\"0 0 24 24\"\n",
              "       width=\"24px\">\n",
              "    <path d=\"M0 0h24v24H0V0z\" fill=\"none\"/>\n",
              "    <path d=\"M18.56 5.44l.94 2.06.94-2.06 2.06-.94-2.06-.94-.94-2.06-.94 2.06-2.06.94zm-11 1L8.5 8.5l.94-2.06 2.06-.94-2.06-.94L8.5 2.5l-.94 2.06-2.06.94zm10 10l.94 2.06.94-2.06 2.06-.94-2.06-.94-.94-2.06-.94 2.06-2.06.94z\"/><path d=\"M17.41 7.96l-1.37-1.37c-.4-.4-.92-.59-1.43-.59-.52 0-1.04.2-1.43.59L10.3 9.45l-7.72 7.72c-.78.78-.78 2.05 0 2.83L4 21.41c.39.39.9.59 1.41.59.51 0 1.02-.2 1.41-.59l7.78-7.78 2.81-2.81c.8-.78.8-2.07 0-2.86zM5.41 20L4 18.59l7.72-7.72 1.47 1.35L5.41 20z\"/>\n",
              "  </svg>\n",
              "      </button>\n",
              "      \n",
              "  <style>\n",
              "    .colab-df-container {\n",
              "      display:flex;\n",
              "      flex-wrap:wrap;\n",
              "      gap: 12px;\n",
              "    }\n",
              "\n",
              "    .colab-df-convert {\n",
              "      background-color: #E8F0FE;\n",
              "      border: none;\n",
              "      border-radius: 50%;\n",
              "      cursor: pointer;\n",
              "      display: none;\n",
              "      fill: #1967D2;\n",
              "      height: 32px;\n",
              "      padding: 0 0 0 0;\n",
              "      width: 32px;\n",
              "    }\n",
              "\n",
              "    .colab-df-convert:hover {\n",
              "      background-color: #E2EBFA;\n",
              "      box-shadow: 0px 1px 2px rgba(60, 64, 67, 0.3), 0px 1px 3px 1px rgba(60, 64, 67, 0.15);\n",
              "      fill: #174EA6;\n",
              "    }\n",
              "\n",
              "    [theme=dark] .colab-df-convert {\n",
              "      background-color: #3B4455;\n",
              "      fill: #D2E3FC;\n",
              "    }\n",
              "\n",
              "    [theme=dark] .colab-df-convert:hover {\n",
              "      background-color: #434B5C;\n",
              "      box-shadow: 0px 1px 3px 1px rgba(0, 0, 0, 0.15);\n",
              "      filter: drop-shadow(0px 1px 2px rgba(0, 0, 0, 0.3));\n",
              "      fill: #FFFFFF;\n",
              "    }\n",
              "  </style>\n",
              "\n",
              "      <script>\n",
              "        const buttonEl =\n",
              "          document.querySelector('#df-1a3f94f6-663d-4e98-9d17-98d34658bd72 button.colab-df-convert');\n",
              "        buttonEl.style.display =\n",
              "          google.colab.kernel.accessAllowed ? 'block' : 'none';\n",
              "\n",
              "        async function convertToInteractive(key) {\n",
              "          const element = document.querySelector('#df-1a3f94f6-663d-4e98-9d17-98d34658bd72');\n",
              "          const dataTable =\n",
              "            await google.colab.kernel.invokeFunction('convertToInteractive',\n",
              "                                                     [key], {});\n",
              "          if (!dataTable) return;\n",
              "\n",
              "          const docLinkHtml = 'Like what you see? Visit the ' +\n",
              "            '<a target=\"_blank\" href=https://colab.research.google.com/notebooks/data_table.ipynb>data table notebook</a>'\n",
              "            + ' to learn more about interactive tables.';\n",
              "          element.innerHTML = '';\n",
              "          dataTable['output_type'] = 'display_data';\n",
              "          await google.colab.output.renderOutput(dataTable, element);\n",
              "          const docLink = document.createElement('div');\n",
              "          docLink.innerHTML = docLinkHtml;\n",
              "          element.appendChild(docLink);\n",
              "        }\n",
              "      </script>\n",
              "    </div>\n",
              "  </div>\n",
              "  "
            ]
          },
          "metadata": {},
          "execution_count": 27
        }
      ]
    },
    {
      "cell_type": "code",
      "source": [
        "# inspect dataset\n",
        "\n",
        "dataset.info()"
      ],
      "metadata": {
        "colab": {
          "base_uri": "https://localhost:8080/"
        },
        "id": "1zBO0C-HH_kw",
        "outputId": "cfc8a162-930a-4cd1-f1a5-45d8f2c61314"
      },
      "execution_count": null,
      "outputs": [
        {
          "output_type": "stream",
          "name": "stdout",
          "text": [
            "<class 'pandas.core.frame.DataFrame'>\n",
            "RangeIndex: 500 entries, 0 to 499\n",
            "Data columns (total 6 columns):\n",
            " #   Column                   Non-Null Count  Dtype  \n",
            "---  ------                   --------------  -----  \n",
            " 0   Sample ID                500 non-null    int64  \n",
            " 1   pH                       500 non-null    float64\n",
            " 2   Temperature (°C)         500 non-null    float64\n",
            " 3   Turbidity (NTU)          500 non-null    float64\n",
            " 4   Dissolved Oxygen (mg/L)  500 non-null    float64\n",
            " 5   Conductivity (µS/cm)     500 non-null    int64  \n",
            "dtypes: float64(4), int64(2)\n",
            "memory usage: 23.6 KB\n"
          ]
        }
      ]
    },
    {
      "cell_type": "markdown",
      "source": [
        "Each column of data contains 500 items and there is no missing data"
      ],
      "metadata": {
        "id": "7mAhE5fdI6Gn"
      }
    },
    {
      "cell_type": "code",
      "source": [
        "# Check for outliers\n",
        "\n",
        "def detect_outliers(df):\n",
        "    outlier_data = {}\n",
        "    for col in df.columns:\n",
        "        z_scores = np.abs(stats.zscore(df[col]))\n",
        "        outliers = z_scores > 3\n",
        "        outlier_rows = df[outliers]\n",
        "        if not outlier_rows.empty:\n",
        "            outlier_data[col] = outlier_rows\n",
        "    return outlier_data\n",
        "\n",
        "\n",
        "outlier_data = detect_outliers(dataset.drop(columns=['Sample ID']))\n",
        "\n",
        "# Print the results in a neat way\n",
        "for column, data in outlier_data.items():\n",
        "    print(f'The outliers in the {column} data are:')\n",
        "    print(data)\n",
        "    print()"
      ],
      "metadata": {
        "colab": {
          "base_uri": "https://localhost:8080/"
        },
        "id": "xjOaUNk7Iahg",
        "outputId": "7bf85459-70f3-45ec-9e93-ad89ed11f608"
      },
      "execution_count": null,
      "outputs": [
        {
          "output_type": "stream",
          "name": "stdout",
          "text": [
            "The outliers in the pH data are:\n",
            "      pH  Temperature (°C)  Turbidity (NTU)  Dissolved Oxygen (mg/L)  \\\n",
            "20  6.83              22.5              3.3                      6.1   \n",
            "\n",
            "    Conductivity (µS/cm)  \n",
            "20                   348  \n",
            "\n"
          ]
        }
      ]
    },
    {
      "cell_type": "markdown",
      "source": [
        "#Regression Analysis"
      ],
      "metadata": {
        "id": "yzxK2kalhbXn"
      }
    },
    {
      "cell_type": "code",
      "source": [
        "# Define features and targets\n",
        "\n",
        "X = dataset[[\"pH\", \"Temperature (°C)\", \"Turbidity (NTU)\", \"Conductivity (µS/cm)\"]].values\n",
        "Y = dataset[[\"Dissolved Oxygen (mg/L)\"]]\n",
        "\n",
        "\n",
        "# Normalise the data\n",
        "scalar = StandardScaler()\n",
        "X = scalar.fit_transform(X)"
      ],
      "metadata": {
        "id": "iywVijH-g-_d"
      },
      "execution_count": null,
      "outputs": []
    },
    {
      "cell_type": "code",
      "source": [
        "# Split the dataset into training and test splits\n",
        "\n",
        "# Train and val+test\n",
        "Xtrain, X_val, Ytrain, Y_val = train_test_split(X, Y, test_size=0.3, random_state = 10)\n",
        "\n",
        "\n",
        "# Splitting up validation and test sets\n",
        "Xval, Xtest, Yval, Ytest = train_test_split(X_val, Y_val, test_size = 0.5, random_state = 10)\n",
        "\n",
        "# Inspect the new dataset sizes\n",
        "print(\"Training set size: \", Xtrain.shape)\n",
        "print(\"Validation set size: \", Xval.shape)\n",
        "print(\"Test set size: \", Xtest.shape)\n"
      ],
      "metadata": {
        "colab": {
          "base_uri": "https://localhost:8080/"
        },
        "id": "0IBLef9PjDET",
        "outputId": "913b29bb-5cc4-42ac-c400-277b34a30334"
      },
      "execution_count": null,
      "outputs": [
        {
          "output_type": "stream",
          "name": "stdout",
          "text": [
            "Training set size:  (350, 4)\n",
            "Validation set size:  (75, 4)\n",
            "Test set size:  (75, 4)\n"
          ]
        }
      ]
    },
    {
      "cell_type": "markdown",
      "source": [
        "## Regression Algorithm 1: Support Vector Regression"
      ],
      "metadata": {
        "id": "UubgAeTX2jRk"
      }
    },
    {
      "cell_type": "markdown",
      "source": [
        "Support vector regression key points:\n",
        "\n",
        "\n",
        "*   Finds the hyperplane that fits the data\n",
        "*   SVM is the classification version\n",
        "*   SVR tries to reduce the error between the hyperplane and the data\n",
        "*   SVR allows you to determine how tolerant of errors you are\n",
        "*   Errors only outside of a margin (epsilon) contribute to the loss\n",
        "\n",
        "\n",
        "\n",
        "\n",
        "\n",
        "\n",
        "\n"
      ],
      "metadata": {
        "id": "8LNZb3kIl5lq"
      }
    },
    {
      "cell_type": "code",
      "source": [
        "from sklearn.svm import SVR\n",
        "\n",
        "SVR1 = SVR(kernel = 'rbf', C = 4)\n",
        "SVR2 = SVR(kernel = 'poly', C= 4)\n",
        "SVR3 = SVR(kernel = 'linear', C= 4)\n",
        "\n",
        "\n",
        "\n",
        "print(SVR1)\n"
      ],
      "metadata": {
        "colab": {
          "base_uri": "https://localhost:8080/"
        },
        "id": "utwc8Ujp3etk",
        "outputId": "687bbc77-88df-4b11-edee-505f79402409"
      },
      "execution_count": null,
      "outputs": [
        {
          "output_type": "stream",
          "name": "stdout",
          "text": [
            "SVR(C=4)\n"
          ]
        }
      ]
    },
    {
      "cell_type": "code",
      "source": [
        "from sklearn.metrics import mean_squared_error, r2_score, mean_absolute_error\n",
        "\n",
        "def compute_metrics(model, model_name, Xval, Yval, Ytrain, Xtrain):\n",
        "  # Fit to the data\n",
        "  model.fit(Xtrain, Ytrain.values.ravel())\n",
        "\n",
        "  # Use the trained model to make predictions on your validation data\n",
        "  Y_pred = model.predict(Xval)\n",
        "\n",
        "  # Now you can compute the metrics\n",
        "  mse = mean_squared_error(Yval, Y_pred)\n",
        "  r2 = r2_score(Yval, Y_pred)\n",
        "  mae = mean_absolute_error(Yval, Y_pred)\n",
        "\n",
        "  print(model_name)\n",
        "  print(\"Mean squared error: \", mse)\n",
        "  print(\"R² score1: \", r2)\n",
        "  print(\"Mean absolute error:\", mae)\n",
        "\n"
      ],
      "metadata": {
        "id": "bGylA8dOW9Qo"
      },
      "execution_count": null,
      "outputs": []
    },
    {
      "cell_type": "code",
      "source": [
        "compute_metrics(SVR1, \"SVR1 - rbf\", Xval, Yval, Ytrain, Xtrain)\n",
        "compute_metrics(SVR2, \"SVR2 - poly\", Xval, Yval, Ytrain, Xtrain)\n",
        "compute_metrics(SVR3, \"SVR3 - linear\", Xval, Yval, Ytrain, Xtrain)"
      ],
      "metadata": {
        "colab": {
          "base_uri": "https://localhost:8080/"
        },
        "id": "JQBf_YYntqNE",
        "outputId": "7ae0c825-2d7b-4b55-ae36-7bfca59cbebd"
      },
      "execution_count": null,
      "outputs": [
        {
          "output_type": "stream",
          "name": "stdout",
          "text": [
            "SVR1 - rbf\n",
            "Mean squared error:  0.0889682225824273\n",
            "R² score1:  0.8632197104958638\n",
            "Mean absolute error: 0.21065509594495355\n",
            "SVR2 - poly\n",
            "Mean squared error:  0.2371973957535288\n",
            "R² score1:  0.6353312731325368\n",
            "Mean absolute error: 0.3565587509039766\n",
            "SVR3 - linear\n",
            "Mean squared error:  0.15301026307177018\n",
            "R² score1:  0.7647610857835148\n",
            "Mean absolute error: 0.2591891062812409\n"
          ]
        }
      ]
    },
    {
      "cell_type": "code",
      "source": [
        "from sklearn.model_selection import GridSearchCV\n",
        "\n",
        "# Define the hyperparameter space\n",
        "params = {\n",
        "    'C' : [0.05, 0.1, 0.5, 1, 4, 5, 10],\n",
        "    'kernel' : ['poly', 'rbf', 'linear'],\n",
        "    'gamma' : ['scale',  'auto']\n",
        "}\n",
        "\n",
        "# initialise model\n",
        "svr = SVR()\n",
        "\n",
        "#create search object\n",
        "gridsearch = GridSearchCV(svr, params, cv = 5, scoring='neg_mean_squared_error')\n",
        "\n",
        "# fit to training data\n",
        "gridsearch.fit(Xtrain, Ytrain.values.ravel())\n",
        "\n",
        "\n",
        "\n",
        "print(\"Best Parameters: \", gridsearch.best_params_)\n",
        "print(\"Best Score: \", gridsearch.best_score_)\n",
        "\n",
        "# interestingly the results are not as good as without the gridsearch"
      ],
      "metadata": {
        "colab": {
          "base_uri": "https://localhost:8080/"
        },
        "id": "hWyHvoKGKSqS",
        "outputId": "325524c9-c93f-431f-f14a-4c90b90fa039"
      },
      "execution_count": null,
      "outputs": [
        {
          "output_type": "stream",
          "name": "stdout",
          "text": [
            "Best Parameters:  {'C': 1, 'gamma': 'scale', 'kernel': 'rbf'}\n",
            "Best Score:  -0.22865572605894918\n"
          ]
        }
      ]
    }
  ]
}