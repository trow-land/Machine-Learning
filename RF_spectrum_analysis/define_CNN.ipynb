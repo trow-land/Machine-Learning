{
 "cells": [
  {
   "cell_type": "code",
   "execution_count": 2,
   "id": "93748a10-48f6-403b-927f-dd7f9cda029c",
   "metadata": {
    "editable": true,
    "slideshow": {
     "slide_type": ""
    },
    "tags": []
   },
   "outputs": [],
   "source": [
    "import torch\n",
    "import torch.nn as nn\n",
    "import numpy as np\n",
    "from sklearn.model_selection import train_test_split\n",
    "import torch.nn.functional as F\n",
    "\n",
    "import pickle"
   ]
  },
  {
   "cell_type": "code",
   "execution_count": 3,
   "id": "7368eb97-08ef-4ca7-8550-23a3387f0c13",
   "metadata": {},
   "outputs": [
    {
     "name": "stdout",
     "output_type": "stream",
     "text": [
      "Using device: cuda\n"
     ]
    }
   ],
   "source": [
    "device = torch.device(\"cuda\" if torch.cuda.is_available() else \"cpu\")\n",
    "print(f\"Using device: {device}\")"
   ]
  },
  {
   "cell_type": "code",
   "execution_count": 4,
   "id": "e0cbb199-ac64-4f19-80a4-16d097fe8680",
   "metadata": {
    "editable": true,
    "slideshow": {
     "slide_type": ""
    },
    "tags": []
   },
   "outputs": [],
   "source": [
    "with open(r\"C:\\Users\\tom_r\\Desktop\\Machine-Learning\\RF_spectrum_analysis\\subset.pkl\", 'rb') as file:\n",
    "    dataset = pickle.load(file)"
   ]
  },
  {
   "cell_type": "code",
   "execution_count": 5,
   "id": "c6149b09-7d51-4296-9f1f-de891a0aaf9c",
   "metadata": {},
   "outputs": [
    {
     "name": "stdout",
     "output_type": "stream",
     "text": [
      "X: shape (532480, 1024, 2), dtype float16\n",
      "y: shape (532480,), dtype int64\n",
      "snr: shape (532480,), dtype int64\n"
     ]
    }
   ],
   "source": [
    "for k, v in dataset.items():\n",
    "    print(f\"{k}: shape {v.shape}, dtype {v.dtype}\")"
   ]
  },
  {
   "cell_type": "code",
   "execution_count": 6,
   "id": "7288d25b-e2ef-46a0-9787-88e002f09dc1",
   "metadata": {},
   "outputs": [],
   "source": [
    "X_train, X_text, y_train, y_test = train_test_split(dataset['X'], dataset['y'], test_size=0.2, random_state=44)"
   ]
  },
  {
   "cell_type": "code",
   "execution_count": 7,
   "id": "804eacd7-6c48-4f86-ae07-ee506c4eb79d",
   "metadata": {},
   "outputs": [],
   "source": [
    "X_tensor = torch.tensor(X_train, dtype=torch.float32)  \n",
    "X_tensor = X_tensor.permute(0, 2, 1)  # (N, 2, 1024)"
   ]
  },
  {
   "cell_type": "code",
   "execution_count": 8,
   "id": "f5cd050b-806b-4e7c-a966-0c0739ce88ac",
   "metadata": {},
   "outputs": [
    {
     "name": "stdout",
     "output_type": "stream",
     "text": [
      "425984\n"
     ]
    },
    {
     "data": {
      "text/plain": [
       "(1024, 2)"
      ]
     },
     "execution_count": 8,
     "metadata": {},
     "output_type": "execute_result"
    }
   ],
   "source": [
    "print(len(X_train))\n",
    "X_train[0].shape"
   ]
  },
  {
   "cell_type": "code",
   "execution_count": 15,
   "id": "ae205db3-eb6c-4fbd-b59b-4e059b380323",
   "metadata": {
    "editable": true,
    "slideshow": {
     "slide_type": ""
    },
    "tags": []
   },
   "outputs": [],
   "source": [
    "class CNN(nn.Module):\n",
    "    def __init__(self):\n",
    "        super(CNN, self).__init__()\n",
    "        self.conv_layer1 = nn.Conv1d(in_channels=2, out_channels=32, kernel_size=3)\n",
    "        self.conv_layer2 = nn.Conv1d(in_channels=32, out_channels=64, kernel_size=3)\n",
    "        self.max_pool1 = nn.MaxPool1d(kernel_size=2, stride=2)\n",
    "        self.conv_layer3 = nn.Conv1d(in_channels=64, out_channels=64, kernel_size=3)\n",
    "        self.conv_layer4 = nn.Conv1d(in_channels=64, out_channels=128, kernel_size=3)\n",
    "        self.max_pool2 = nn.MaxPool1d(kernel_size=2, stride=2)\n",
    "        self.flatten = nn.Flatten()\n",
    "        self.fc1 = nn.Linear(32384, 128)\n",
    "        self.fc2 = nn.Linear(128, 5) # 5 classes for the subset\n",
    "\n",
    "    def forward(self, x):\n",
    "        x = self.conv_layer1(x)\n",
    "        x = F.relu(x)\n",
    "        x = self.conv_layer2(x)\n",
    "        x = F.relu(x)\n",
    "        x = self.max_pool1(x)\n",
    "        x = self.conv_layer3(x)\n",
    "        x = F.relu(x)\n",
    "        x = self.conv_layer4(x)\n",
    "        x = F.relu(x)\n",
    "        x = self.max_pool2(x)\n",
    "        x = self.flatten(x)\n",
    "        print(x.shape)\n",
    "        x = self.fc1(x)\n",
    "        x = F.relu(x)\n",
    "        x = self.fc2(x)\n",
    "        \n",
    "        return x\n"
   ]
  },
  {
   "cell_type": "code",
   "execution_count": 17,
   "id": "22de087c-0b88-40c5-8f4f-ffb2ebdf3d9d",
   "metadata": {},
   "outputs": [
    {
     "name": "stdout",
     "output_type": "stream",
     "text": [
      "torch.Size([1, 32384])\n"
     ]
    },
    {
     "data": {
      "text/plain": [
       "torch.Size([1, 5])"
      ]
     },
     "execution_count": 17,
     "metadata": {},
     "output_type": "execute_result"
    }
   ],
   "source": [
    "m = CNN()\n",
    "output = m.forward(X_tensor[0].unsqueeze(0))  # now shape: (1, 2, 1024)\n",
    "output.shape"
   ]
  },
  {
   "cell_type": "code",
   "execution_count": null,
   "id": "27353464-eb65-4183-b9b8-d54afda2281b",
   "metadata": {},
   "outputs": [],
   "source": [
    "loss_fn = torch.nn.CrossEntropyLoss()\n",
    "optimizer = torch.optim.Adam(model.parameters(), lr=1e-3)"
   ]
  },
  {
   "cell_type": "code",
   "execution_count": null,
   "id": "d8e44730-a9e2-46aa-af43-316ddf9c87a3",
   "metadata": {},
   "outputs": [],
   "source": []
  }
 ],
 "metadata": {
  "kernelspec": {
   "display_name": "Python 3 (ipykernel)",
   "language": "python",
   "name": "python3"
  },
  "language_info": {
   "codemirror_mode": {
    "name": "ipython",
    "version": 3
   },
   "file_extension": ".py",
   "mimetype": "text/x-python",
   "name": "python",
   "nbconvert_exporter": "python",
   "pygments_lexer": "ipython3",
   "version": "3.12.9"
  }
 },
 "nbformat": 4,
 "nbformat_minor": 5
}
