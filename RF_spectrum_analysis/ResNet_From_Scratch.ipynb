{
 "cells": [
  {
   "cell_type": "code",
   "execution_count": 1,
   "id": "ddf485cb-cfcf-4122-93b3-0674b821c0ab",
   "metadata": {},
   "outputs": [],
   "source": [
    "import torch\n",
    "import torch.nn as nn\n",
    "import numpy as np\n",
    "from sklearn.model_selection import train_test_split\n",
    "import torch.nn.functional as F\n",
    "from torch.utils.data import Dataset, DataLoader\n",
    "import torch.optim as optim\n",
    "import pickle"
   ]
  },
  {
   "cell_type": "markdown",
   "id": "899681c9-d403-4f45-8b61-c85d363e7359",
   "metadata": {},
   "source": [
    "Basic Block: Conv → BN → ReLU → Conv → BN → Add skip → ReLU"
   ]
  },
  {
   "cell_type": "code",
   "execution_count": 8,
   "id": "212c423d-0342-4916-a29f-50e95fccd926",
   "metadata": {},
   "outputs": [],
   "source": [
    "class BasicBlock(nn.Module):\n",
    "    def __init__(self, in_channels, out_channels, kernel_size=3, stride=2, downsample=None):\n",
    "        super().__init__()\n",
    "        self.conv1 = nn.Conv1d(in_channels=in_channels, out_channels=out_channels, kernel_size=kernel_size, stride=stride)\n",
    "        self.batchnorm1 = nn.BatchNorm1d(out_channels)\n",
    "        self.relu1 = nn.ReLU()\n",
    "        self.conv2 = nn.Conv1d(in_channels=out_channels, out_channels=out_channels, kernel_size=kernel_size)\n",
    "        self.batchnorm2 = nn.BatchNorm1d(out_channels)\n",
    "        # add skip\n",
    "        self.downsample = downsample\n",
    "        self.relu2 = nn.ReLU(inplace=True)\n",
    "\n",
    "\n",
    "    def forward(self, x):\n",
    "        ip = x\n",
    "        x = self.conv1(x)\n",
    "        x = self.batchnorm1(x)\n",
    "        x = self.relu1(x)\n",
    "        x = self.conv2(x)\n",
    "        x = self.batchnorm2(x)\n",
    "        \n",
    "        if self.downsample is not None:\n",
    "            ip = self.downsample(ip)\n",
    "        x = x + ip # add the skipped input\n",
    "        \n",
    "        x = self.relu2(x)\n",
    "\n",
    "        return x   \n",
    "    "
   ]
  },
  {
   "cell_type": "code",
   "execution_count": 3,
   "id": "47710ff2-ab00-4861-9f53-d82295509529",
   "metadata": {},
   "outputs": [],
   "source": [
    "with open(r\"C:\\Users\\tom_r\\Desktop\\Machine-Learning\\RF_spectrum_analysis\\subset.pkl\", 'rb') as file:\n",
    "    dataset = pickle.load(file)"
   ]
  },
  {
   "cell_type": "code",
   "execution_count": 4,
   "id": "72ffbd83-ca98-4f15-8c34-f24983aa2416",
   "metadata": {},
   "outputs": [
    {
     "name": "stdout",
     "output_type": "stream",
     "text": [
      "X: shape (532480, 1024, 2), dtype float16\n",
      "y: shape (532480,), dtype int64\n",
      "snr: shape (532480,), dtype int64\n"
     ]
    }
   ],
   "source": [
    "for k, v in dataset.items():\n",
    "    print(f\"{k}: shape {v.shape}, dtype {v.dtype}\")"
   ]
  },
  {
   "cell_type": "code",
   "execution_count": 5,
   "id": "f9bac2ae-b734-443c-8948-b12c81e17d6a",
   "metadata": {},
   "outputs": [],
   "source": [
    "unique_labels = np.unique(dataset['y'])\n",
    "label_map = {old: new for new, old in enumerate(unique_labels)}\n",
    "\n",
    "# Remap y labels\n",
    "mapped_y = np.vectorize(label_map.get)(dataset['y'])"
   ]
  },
  {
   "cell_type": "code",
   "execution_count": 6,
   "id": "1ab76beb-c8a3-4502-98f4-6217bf5da90c",
   "metadata": {},
   "outputs": [],
   "source": [
    "X_tensor = torch.tensor(dataset['X'], dtype=torch.float32)  \n",
    "X_tensor = X_tensor.permute(0, 2, 1)  # (N, 2, 1024)"
   ]
  },
  {
   "cell_type": "code",
   "execution_count": 15,
   "id": "0681a024-37da-4acd-9db8-7eeab3a85676",
   "metadata": {},
   "outputs": [
    {
     "ename": "RuntimeError",
     "evalue": "The size of tensor a (509) must match the size of tensor b (512) at non-singleton dimension 2",
     "output_type": "error",
     "traceback": [
      "\u001b[31m---------------------------------------------------------------------------\u001b[39m",
      "\u001b[31mRuntimeError\u001b[39m                              Traceback (most recent call last)",
      "\u001b[36mCell\u001b[39m\u001b[36m \u001b[39m\u001b[32mIn[15]\u001b[39m\u001b[32m, line 9\u001b[39m\n\u001b[32m      1\u001b[39m downsample = nn.Sequential(\n\u001b[32m      2\u001b[39m     nn.Conv1d(in_channels=\u001b[32m2\u001b[39m, out_channels=\u001b[32m64\u001b[39m, kernel_size=\u001b[32m1\u001b[39m, stride=\u001b[32m2\u001b[39m),\n\u001b[32m      3\u001b[39m     nn.BatchNorm1d(\u001b[32m64\u001b[39m)\n\u001b[32m      4\u001b[39m )\n\u001b[32m      6\u001b[39m basic = BasicBlock(in_channels=\u001b[32m2\u001b[39m, out_channels=\u001b[32m64\u001b[39m, downsample=downsample)\n\u001b[32m----> \u001b[39m\u001b[32m9\u001b[39m output = basic.forward(X_tensor[\u001b[32m0\u001b[39m].unsqueeze(\u001b[32m0\u001b[39m)) \n\u001b[32m     10\u001b[39m output.shape\n",
      "\u001b[36mCell\u001b[39m\u001b[36m \u001b[39m\u001b[32mIn[8]\u001b[39m\u001b[32m, line 24\u001b[39m, in \u001b[36mBasicBlock.forward\u001b[39m\u001b[34m(self, x)\u001b[39m\n\u001b[32m     22\u001b[39m \u001b[38;5;28;01mif\u001b[39;00m \u001b[38;5;28mself\u001b[39m.downsample \u001b[38;5;129;01mis\u001b[39;00m \u001b[38;5;129;01mnot\u001b[39;00m \u001b[38;5;28;01mNone\u001b[39;00m:\n\u001b[32m     23\u001b[39m     ip = \u001b[38;5;28mself\u001b[39m.downsample(ip)\n\u001b[32m---> \u001b[39m\u001b[32m24\u001b[39m x = x + ip \u001b[38;5;66;03m# add the skipped input\u001b[39;00m\n\u001b[32m     26\u001b[39m x = \u001b[38;5;28mself\u001b[39m.relu2(x)\n\u001b[32m     28\u001b[39m \u001b[38;5;28;01mreturn\u001b[39;00m x\n",
      "\u001b[31mRuntimeError\u001b[39m: The size of tensor a (509) must match the size of tensor b (512) at non-singleton dimension 2"
     ]
    }
   ],
   "source": [
    "downsample = nn.Sequential(\n",
    "    nn.Conv1d(in_channels=2, out_channels=64, kernel_size=1, stride=2),\n",
    "    nn.BatchNorm1d(64)\n",
    ")\n",
    "\n",
    "basic = BasicBlock(in_channels=2, out_channels=64, downsample=downsample)\n",
    "\n",
    "\n",
    "output = basic.forward(X_tensor[0].unsqueeze(0)) \n",
    "output.shape"
   ]
  },
  {
   "cell_type": "code",
   "execution_count": null,
   "id": "3676e05f-6e38-4d90-b8d3-36cd1055fa28",
   "metadata": {},
   "outputs": [],
   "source": []
  }
 ],
 "metadata": {
  "kernelspec": {
   "display_name": "Python 3 (ipykernel)",
   "language": "python",
   "name": "python3"
  },
  "language_info": {
   "codemirror_mode": {
    "name": "ipython",
    "version": 3
   },
   "file_extension": ".py",
   "mimetype": "text/x-python",
   "name": "python",
   "nbconvert_exporter": "python",
   "pygments_lexer": "ipython3",
   "version": "3.12.9"
  }
 },
 "nbformat": 4,
 "nbformat_minor": 5
}
